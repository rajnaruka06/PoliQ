{
 "cells": [
  {
   "cell_type": "code",
   "execution_count": 1,
   "metadata": {},
   "outputs": [],
   "source": [
    "from Agent_Helpers import load_polimap_postgres, load_elecdata_postgres, clean_sql_query, SQLCoder, SchemaInfoBuilder\n",
    "from CustomAgents import SQLExpert, ResponseSummarizer, SQLExpertMultiDB\n",
    "from langchain_openai import ChatOpenAI, OpenAIEmbeddings\n",
    "import json"
   ]
  },
  {
   "cell_type": "code",
   "execution_count": 2,
   "metadata": {},
   "outputs": [
    {
     "name": "stderr",
     "output_type": "stream",
     "text": [
      "c:\\Users\\rajna\\AppData\\Local\\Programs\\Python\\Python312\\Lib\\site-packages\\langchain_community\\utilities\\sql_database.py:123: SAWarning: Did not recognize type 'geometry' of column 'geometry'\n",
      "  self._metadata.reflect(\n",
      "c:\\Users\\rajna\\AppData\\Local\\Programs\\Python\\Python312\\Lib\\site-packages\\langchain_community\\utilities\\sql_database.py:123: SAWarning: Did not recognize type 'geometry' of column 'Location'\n",
      "  self._metadata.reflect(\n",
      "c:\\Users\\rajna\\AppData\\Local\\Programs\\Python\\Python312\\Lib\\site-packages\\langchain_community\\utilities\\sql_database.py:123: SAWarning: Did not recognize type 'geometry' of column 'Geometry'\n",
      "  self._metadata.reflect(\n"
     ]
    }
   ],
   "source": [
    "polimap_db = load_polimap_postgres()\n",
    "elecdata_db = load_elecdata_postgres()\n",
    "llm = ChatOpenAI(\n",
    "            model=\"gpt-4o\",\n",
    "            temperature=0,\n",
    "            max_tokens=None,\n",
    "            timeout=None,\n",
    "            max_retries=2\n",
    "        )"
   ]
  },
  {
   "cell_type": "code",
   "execution_count": 3,
   "metadata": {},
   "outputs": [],
   "source": [
    "## Run Periodically\n",
    "\n",
    "# databases = {\n",
    "#     \"polimap\": polimap_db,\n",
    "#     \"elecdata\": elecdata_db\n",
    "# }\n",
    "# builder = SchemaInfoBuilder(databases)\n",
    "# builder.create_schema_info(output_path=\"schema_info.json\")"
   ]
  },
  {
   "cell_type": "code",
   "execution_count": 5,
   "metadata": {},
   "outputs": [],
   "source": [
    "single_db_sql_expert = SQLExpert(llm = llm)\n",
    "multi_db_sql_expert = SQLExpertMultiDB(llm = llm, schema_file_path=\"schema_info.json\")\n",
    "elecdata_query_runner = SQLCoder(db=elecdata_db)\n",
    "polimap_query_runner = SQLCoder(db=polimap_db)\n",
    "summarizer = ResponseSummarizer(llm = llm)"
   ]
  },
  {
   "cell_type": "code",
   "execution_count": null,
   "metadata": {},
   "outputs": [],
   "source": [
    "## RateLimitError: Error code: 429 - {'error': {'message': 'Request too large for gpt-4o in organization org-TRrZAIH9Gw4ggp0Nv8IChwBB on tokens per min (TPM): Limit 30000, Requested 1593085. \n",
    "## The input or output tokens must be reduced in order to run successfully. Visit https://platform.openai.com/account/rate-limits to learn more.', 'type': 'tokens', 'param': None, 'code': 'rate_limit_exceeded'}}\n",
    "\n",
    "# multi_db_sql_expert.generate_query(user_query=\"How many votes did each party get in the 2022 election?\", dialect='postgresql')"
   ]
  },
  {
   "cell_type": "code",
   "execution_count": 9,
   "metadata": {},
   "outputs": [],
   "source": []
  },
  {
   "cell_type": "code",
   "execution_count": 17,
   "metadata": {},
   "outputs": [],
   "source": []
  },
  {
   "cell_type": "code",
   "execution_count": 20,
   "metadata": {},
   "outputs": [],
   "source": []
  },
  {
   "cell_type": "code",
   "execution_count": null,
   "metadata": {},
   "outputs": [],
   "source": []
  }
 ],
 "metadata": {
  "kernelspec": {
   "display_name": "Python 3",
   "language": "python",
   "name": "python3"
  },
  "language_info": {
   "codemirror_mode": {
    "name": "ipython",
    "version": 3
   },
   "file_extension": ".py",
   "mimetype": "text/x-python",
   "name": "python",
   "nbconvert_exporter": "python",
   "pygments_lexer": "ipython3",
   "version": "3.12.2"
  }
 },
 "nbformat": 4,
 "nbformat_minor": 2
}
