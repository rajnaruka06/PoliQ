{
 "cells": [
  {
   "cell_type": "code",
   "execution_count": 1,
   "metadata": {},
   "outputs": [
    {
     "data": {
      "text/plain": [
       "True"
      ]
     },
     "execution_count": 1,
     "metadata": {},
     "output_type": "execute_result"
    }
   ],
   "source": [
    "import os\n",
    "from dotenv import load_dotenv\n",
    "\n",
    "load_dotenv(dotenv_path='./backend/resources/.ENV')"
   ]
  },
  {
   "cell_type": "code",
   "execution_count": 2,
   "metadata": {},
   "outputs": [],
   "source": [
    "from pymongo import MongoClient\n",
    "mongo_uri = os.environ.get(\"MONGO_URI\")\n",
    "db_name = os.environ.get(\"MONGO_DB_NAME\")\n",
    "\n",
    "client = MongoClient(mongo_uri)\n",
    "db = client[db_name]"
   ]
  },
  {
   "cell_type": "code",
   "execution_count": 3,
   "metadata": {},
   "outputs": [],
   "source": [
    "with open('./backend/resources/elecdataDesc.txt', 'r') as file:\n",
    "    elecdata_desc = file.read()\n",
    "\n",
    "with open('./backend/resources/elecdataUsableTableInfos.txt', 'r') as file:\n",
    "    elecdata_schema = file.read()\n",
    "\n",
    "with open('./backend/resources/poliapDesc.txt', 'r') as file:\n",
    "    poliap_desc = file.read()\n",
    "\n",
    "with open('./backend/resources/polimapMetadata.txt', 'r') as file:\n",
    "    polimap_meta = file.read()\n",
    "\n",
    "with open('./backend/resources/polimapTableList.txt', 'r') as file:\n",
    "    polimap_table_list = file.read()"
   ]
  },
  {
   "cell_type": "code",
   "execution_count": 4,
   "metadata": {},
   "outputs": [
    {
     "data": {
      "text/plain": [
       "InsertOneResult(ObjectId('66cb43099f8ff7cc5d92547c'), acknowledged=True)"
      ]
     },
     "execution_count": 4,
     "metadata": {},
     "output_type": "execute_result"
    }
   ],
   "source": [
    "elecdata_details = {\n",
    "    \"Name\": \"elecdata\"\n",
    "    , \"Description\": elecdata_desc\n",
    "    , \"Metadata\" : elecdata_desc\n",
    "    , \"Table List\": elecdata_schema\n",
    "    , \"Schema Info\": elecdata_schema\n",
    "}\n",
    "\n",
    "polimap_details = {\n",
    "    \"Name\": \"polimap\"\n",
    "    , \"Description\": poliap_desc\n",
    "    , \"Metadata\" : polimap_meta\n",
    "    , \"Table List\": f\"{polimap_meta}\\nTable List:\\n{polimap_table_list}\"\n",
    "    , \"Schema Info\": \"Too big, Generate Dynamically\"\n",
    "}\n",
    "\n",
    "db['meta'].insert_one(elecdata_details)\n",
    "db['meta'].insert_one(polimap_details)"
   ]
  },
  {
   "cell_type": "code",
   "execution_count": null,
   "metadata": {},
   "outputs": [],
   "source": []
  },
  {
   "cell_type": "code",
   "execution_count": null,
   "metadata": {},
   "outputs": [],
   "source": []
  }
 ],
 "metadata": {
  "kernelspec": {
   "display_name": "Python 3",
   "language": "python",
   "name": "python3"
  },
  "language_info": {
   "codemirror_mode": {
    "name": "ipython",
    "version": 3
   },
   "file_extension": ".py",
   "mimetype": "text/x-python",
   "name": "python",
   "nbconvert_exporter": "python",
   "pygments_lexer": "ipython3",
   "version": "3.12.2"
  }
 },
 "nbformat": 4,
 "nbformat_minor": 2
}
