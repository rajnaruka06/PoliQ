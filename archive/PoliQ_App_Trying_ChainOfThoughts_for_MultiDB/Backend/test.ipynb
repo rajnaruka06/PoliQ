{
 "cells": [
  {
   "cell_type": "markdown",
   "metadata": {},
   "source": [
    "## Test 1 of AI_Stuff and ChatHistory"
   ]
  },
  {
   "cell_type": "code",
   "execution_count": 1,
   "metadata": {},
   "outputs": [],
   "source": [
    "# from AI_Stuff.Agent_Helpers import load_elecdata_postgres, clean_sql_query, SQLCoder, DDLCommandException, ChatHistory\n",
    "# from AI_Stuff.CustomAgents import SQLExpert, ResponseSummarizer\n",
    "# from langchain_openai import ChatOpenAI\n",
    "\n",
    "# db = load_elecdata_postgres()\n",
    "# dialect = db.dialect\n",
    "# llm = ChatOpenAI(\n",
    "#     model=\"gpt-4o\",\n",
    "#     temperature=0,\n",
    "#     max_tokens=None,\n",
    "#     timeout=None,\n",
    "#     max_retries=2\n",
    "# )\n",
    "\n",
    "# schema_info = db.get_table_info()\n",
    "# sql_coder_agent = SQLExpert(llm = llm)\n",
    "# sql_query_tool = SQLCoder(db=db)\n",
    "# response_summarizer_agent = ResponseSummarizer(llm=llm)\n",
    "# history = ChatHistory()"
   ]
  },
  {
   "cell_type": "code",
   "execution_count": 3,
   "metadata": {},
   "outputs": [],
   "source": [
    "## Works\n",
    "\n",
    "# from AI_Stuff.Workflows import elecdataworkflow\n",
    "# workflow = elecdataworkflow()\n",
    "# workflow.run(user_query=\"How many votes did each party get in the 2022 election?\")"
   ]
  },
  {
   "cell_type": "code",
   "execution_count": 6,
   "metadata": {},
   "outputs": [],
   "source": [
    "## Works\n",
    "\n",
    "# history = ChatHistory()\n",
    "# user_query = \"How many votes did each party get in the 2022 election?\"\n",
    "# sql_query = \"\"\n",
    "# response = \"\"\"### Summary of Votes by Party in the 2022 Election\n",
    "\n",
    "# #### Key Insights:\n",
    "# 1. **Top Parties by Votes:**\n",
    "#    - **Liberal Party** received the highest number of votes with **2,712,423** votes.\n",
    "#    - **Australian Labor Party** followed with **2,445,090** votes.\n",
    "#    - **Labor** (likely a duplicate or regional representation) garnered **1,290,950** votes.\n",
    "\n",
    "# 2. **Other Notable Parties:**\n",
    "#    - **Pauline Hanson's One Nation**: 562,511 votes.\n",
    "#    - **The Greens**: 963,961 votes.\n",
    "#    - **Independent** candidates collectively received 639,217 votes.\n",
    "#    - **Liberal National Party of Queensland**: 858,118 votes.\n",
    "\n",
    "# 3. **Smaller Parties and Independents:**\n",
    "#    - **United Australia Party**: 483,854 votes.\n",
    "#    - **The Nationals**: 457,945 votes.\n",
    "#    - **Queensland Greens**: 287,066 votes.\n",
    "#    - **Informal votes** (likely spoiled or invalid ballots): 674,035 votes.\n",
    "\n",
    "# 4. **Minor Parties and Low Vote Counts:**\n",
    "#    - Several minor parties received fewer than 50,000 votes each, such as **Australian Federation Party** (44,309 votes), **Shooters, Fishers and Farmers Party** (14,934 votes), and **Animal Justice Party** (61,698 votes).\n",
    "#    - Some parties received very minimal support, such as **Australian Democrats** (525 votes), **Reason Australia** (1,015 votes), and **Drew Pavlou Democratic Alliance** (848 votes).\n",
    "\n",
    "# #### Trends and Observations:\n",
    "# - **Dominance of Major Parties**: The Liberal and Labor parties dominate the vote count, collectively receiving over 6 million votes.\n",
    "# - **Significant Support for Minor Parties**: Parties like Pauline Hanson's One Nation and The Greens have substantial support, indicating a diverse political landscape.\n",
    "# - **High Number of Informal Votes**: The informal vote count is notably high at 674,035, which could indicate voter confusion or dissatisfaction.\n",
    "# - **Regional Variations**: The presence of parties like the Liberal National Party of Queensland and Queensland Greens suggests regional political dynamics.\n",
    "\n",
    "# #### Detailed Vote Counts:\n",
    "# - **Liberal Party**: 2,712,423 votes\n",
    "# - **Australian Labor Party**: 2,445,090 votes\n",
    "# - **Labor**: 1,290,950 votes\n",
    "# - **Pauline Hanson's One Nation**: 562,511 votes\n",
    "# - **The Greens**: 963,961 votes\n",
    "# - **Independent**: 639,217 votes\n",
    "# - **Liberal National Party of Queensland**: 858,118 votes\n",
    "# - **United Australia Party**: 483,854 votes\n",
    "# - **The Nationals**: 457,945 votes\n",
    "# - **Queensland Greens**: 287,066 votes\n",
    "# - **Informal**: 674,035 votes\n",
    "\n",
    "# #### Minor Parties (Selected):\n",
    "# - **Australian Federation Party**: 44,309 votes\n",
    "# - **Shooters, Fishers and Farmers Party**: 14,934 votes\n",
    "# - **Animal Justice Party**: 61,698 votes\n",
    "# - **Australian Democrats**: 525 votes\n",
    "# - **Reason Australia**: 1,015 votes\n",
    "# - **Drew Pavlou Democratic Alliance**: 848 votes\n",
    "\n",
    "# This summary provides a comprehensive overview of the vote distribution among various parties in the 2022 election, highlighting the dominance of major parties, the significant support for minor parties, and the notable number of informal votes.\"\"\"\n",
    "# chat = f\"\"\"User Query: {user_query}\\nSQL Query: {sql_query}\\nResponse: {response}\"\"\"\n",
    "# history.add(chat)\n",
    "# history.add(chat)\n",
    "# print([len(chat) for chat in history.get().split('\\n---\\n')])"
   ]
  },
  {
   "cell_type": "markdown",
   "metadata": {},
   "source": [
    "## Test 1 of try1.py"
   ]
  },
  {
   "cell_type": "code",
   "execution_count": 2,
   "metadata": {},
   "outputs": [],
   "source": [
    "import requests\n",
    "\n",
    "url = \"http://127.0.0.1:8000/run\"\n",
    "data = {\"user_query\": \"How many votes did each party get in the 2022 election?\"}\n",
    "headers = {\"accept\": \"application/json\", \"Content-Type\": \"application/json\"}"
   ]
  },
  {
   "cell_type": "code",
   "execution_count": 3,
   "metadata": {},
   "outputs": [
    {
     "name": "stdout",
     "output_type": "stream",
     "text": [
      "{'response': \"Based on the provided DataFrame, here is a summary of the total votes received by each party in the 2022 election:\\n\\n### Key Insights and Trends:\\n\\n1. **Top Parties by Total Votes:**\\n   - **Liberal Party:** Received the highest number of votes with a total of 6,730,596 votes.\\n   - **Australian Labor Party:** Followed closely with 6,667,363 votes.\\n   - **Informal Votes:** Accounted for a significant number of votes, totaling 4,718,245.\\n   - **Liberal National Party of Queensland:** Garnered 2,232,051 votes.\\n   - **Independent Candidates:** Received a substantial 992,836 votes.\\n\\n2. **Notable Observations:**\\n   - **The Greens:** Across different states, The Greens received a combined total of 1,480,636 votes (including The Greens, The Greens (VIC), and The Greens (WA)).\\n   - **The Nationals:** Collected 1,600,118 votes, showing strong support in rural areas.\\n   - **Pauline Hanson's One Nation:** Including its NSW Division, the party received a total of 622,607 votes.\\n\\n3. **Smaller Parties and Independents:**\\n   - **Nick Xenophon Team:** Received 29,479 votes.\\n   - **Australian Christians:** Garnered 23,286 votes.\\n   - **Reason Australia:** Had 5,064 votes.\\n   - **WESTERN AUSTRALIA PARTY:** Collected 27,383 votes.\\n   - **Shooters, Fishers and Farmers Party:** Received 14,934 votes.\\n\\n4. **Minor Parties and Low Vote Counts:**\\n   - Several minor parties received fewer than 10,000 votes, such as the **Australian Democrats** (3,332 votes), **Science Party** (21,259 votes), and **Jacqui Lambie Network** (18,605 votes).\\n\\n### Detailed Statistics:\\n\\n- **Liberal Party:** 6,730,596 votes\\n- **Australian Labor Party:** 6,667,363 votes\\n- **Informal Votes:** 4,718,245 votes\\n- **Liberal National Party of Queensland:** 2,232,051 votes\\n- **Independent:** 992,836 votes\\n- **The Nationals:** 1,600,118 votes\\n- **The Greens (combined):** 1,480,636 votes\\n- **Pauline Hanson's One Nation (combined):** 622,607 votes\\n- **Nick Xenophon Team:** 29,479 votes\\n- **Australian Christians:** 23,286 votes\\n- **Reason Australia:** 5,064 votes\\n- **WESTERN AUSTRALIA PARTY:** 27,383 votes\\n- **Shooters, Fishers and Farmers Party:** 14,934 votes\\n\\n### Conclusion:\\n\\nThe 2022 election saw a significant concentration of votes among the major parties, with the Liberal Party and the Australian Labor Party leading the tally. Informal votes also represented a notable portion of the total votes. Smaller parties and independents, while not as dominant, still played a crucial role in the election, reflecting a diverse political landscape.\"}\n"
     ]
    }
   ],
   "source": [
    "response = requests.post(url, json=data, headers=headers)\n",
    "print(response.json())"
   ]
  },
  {
   "cell_type": "markdown",
   "metadata": {},
   "source": [
    "## Test 2: ChatHistory V2"
   ]
  },
  {
   "cell_type": "code",
   "execution_count": 1,
   "metadata": {},
   "outputs": [],
   "source": [
    "from AI_Stuff.Agent_Helpers import ChatHistory"
   ]
  },
  {
   "cell_type": "code",
   "execution_count": 2,
   "metadata": {},
   "outputs": [],
   "source": [
    "chat_history = ChatHistory(user_id=\"test_user\")"
   ]
  },
  {
   "cell_type": "code",
   "execution_count": 5,
   "metadata": {},
   "outputs": [
    {
     "name": "stdout",
     "output_type": "stream",
     "text": [
      "chat id 1: 66c8e02e56c1d646a6e9a46e, chat id 2: 66c8e02e56c1d646a6e9a470\n",
      "All chats:\n",
      "{'_id': '66c6b793fe49c0eee4dd200c', 'chat_id': '66c6b793a74702e24ff8a187', 'archived': False, 'date': '2024-08-22', 'last_updated': datetime.datetime(2024, 8, 22, 13, 59, 45, 362000), 'pinned': True, 'title': 'How many votes did each party '}\n",
      "{'_id': '66c6b793a74702e24ff8a187', 'pinned': True}\n",
      "{'_id': '66c72abefe49c0eee4dd2aa8', 'chat_id': '66c72abed4cc164de0d4bce8', 'archived': True, 'date': '2024-08-22', 'last_updated': datetime.datetime(2024, 8, 22, 22, 10, 38, 98000), 'pinned': False, 'title': 'I have a question about your s'}\n",
      "{'_id': '66c75270178d38c012d70941', 'chat_id': '66c752703880e1d606213bf4', 'archived': True, 'date': '2024-08-23', 'last_updated': datetime.datetime(2024, 8, 23, 1, 0, 0, 894000), 'pinned': False, 'title': 'I have a question about your s'}\n",
      "{'_id': '66c7d8e9178d38c012d70974', 'chat_id': '66c7d8e9a28ec5f1cf6d7200', 'archived': True, 'date': '2024-08-23', 'last_updated': datetime.datetime(2024, 8, 23, 10, 33, 45, 153000), 'pinned': False, 'title': 'I have a question about your s'}\n",
      "{'_id': '66c829ff178d38c012d709f6', 'chat_id': '66c829ff50ad710c79edccea', 'archived': True, 'date': '2024-08-23', 'last_updated': datetime.datetime(2024, 8, 23, 16, 19, 43, 185000), 'pinned': False, 'title': 'I have a question about your s'}\n",
      "{'_id': '66c8c2e4178d38c012d70ada', 'chat_id': '66c8c2e45dd82d23781eab0d', 'archived': False, 'date': '2024-08-24', 'last_updated': datetime.datetime(2024, 8, 24, 3, 35, 26, 393000), 'pinned': False, 'title': 'Hello, how can I help you?', 'documents': [{'doc_id': '66c8c5d3f014daa941503c56', 'filename': 'test.csv', 'file_type': 'csv', 'upload_date': datetime.datetime(2024, 8, 24, 3, 24, 35, 99000)}, {'doc_id': '66c8c85ef014daa941503c58', 'filename': 'valid_test.pdf', 'file_type': 'pdf', 'upload_date': datetime.datetime(2024, 8, 24, 3, 35, 26, 393000)}]}\n",
      "{'_id': '66c8c3fb178d38c012d70bb3', 'chat_id': '66c8c3fb5dd82d23781eab11', 'archived': False, 'date': '2024-08-24', 'last_updated': datetime.datetime(2024, 8, 24, 3, 16, 43, 883000), 'pinned': False, 'title': 'Yes, Shooot it!'}\n",
      "{'_id': '66c8c92b178d38c012d70f5d', 'chat_id': '66c8c92bf014daa941503c5a', 'archived': False, 'date': '2024-08-24', 'last_updated': datetime.datetime(2024, 8, 24, 3, 38, 51, 31000), 'pinned': False, 'title': ''}\n",
      "{'_id': '66c8df0a178d38c012d718df', 'chat_id': '66c8df0a56c1d646a6e9a460', 'archived': True, 'date': '2024-08-24', 'last_updated': datetime.datetime(2024, 8, 24, 5, 12, 10, 487000), 'pinned': False, 'title': 'I have a question about your s'}\n",
      "{'_id': '66c8e005178d38c012d7198b', 'chat_id': '66c8e00556c1d646a6e9a468', 'archived': True, 'date': '2024-08-24', 'last_updated': datetime.datetime(2024, 8, 24, 5, 16, 21, 15000), 'pinned': False, 'title': 'New Message Chat ID 2'}\n",
      "{'_id': '66c8e02e178d38c012d719b3', 'chat_id': '66c8e02e56c1d646a6e9a46e', 'archived': False, 'date': '2024-08-24', 'last_updated': datetime.datetime(2024, 8, 24, 5, 17, 2, 65000), 'pinned': False, 'title': 'New Message Chat ID 1'}\n",
      "{'_id': '66c8e02e178d38c012d719b5', 'chat_id': '66c8e02e56c1d646a6e9a470', 'archived': False, 'date': '2024-08-24', 'last_updated': datetime.datetime(2024, 8, 24, 5, 17, 2, 65000), 'pinned': False, 'title': 'New Message Chat ID 2'}\n",
      "\n",
      "Messages for chat_id_1:\n",
      "{'messageID': '66c8e02e56c1d646a6e9a46f', 'user': 'user', 'content': 'New Message Chat ID 1', 'date': '2024-08-24', 'time': '05:17:02'}\n",
      "{'messageID': '66c8e02e56c1d646a6e9a472', 'user': 'user', 'content': 'chatid one append 1', 'date': '2024-08-24', 'time': '05:17:02'}\n",
      "{'messageID': '66c8e02e56c1d646a6e9a474', 'user': 'user', 'content': 'chatid one append 2', 'date': '2024-08-24', 'time': '05:17:02'}\n",
      "\n",
      "Most recent chats:\n",
      "{'messageID': '66c8e02e56c1d646a6e9a46f', 'user': 'user', 'content': 'New Message Chat ID 1', 'date': '2024-08-24', 'time': '05:17:02'}\n",
      "{'messageID': '66c8e02e56c1d646a6e9a472', 'user': 'user', 'content': 'chatid one append 1', 'date': '2024-08-24', 'time': '05:17:02'}\n",
      "{'messageID': '66c8e02e56c1d646a6e9a474', 'user': 'user', 'content': 'chatid one append 2', 'date': '2024-08-24', 'time': '05:17:02'}\n",
      "\n",
      "Chat_id_1 pinned.\n",
      "{'_id': '66c6b793fe49c0eee4dd200c', 'chat_id': '66c6b793a74702e24ff8a187', 'archived': False, 'date': '2024-08-22', 'last_updated': datetime.datetime(2024, 8, 22, 13, 59, 45, 362000), 'pinned': True, 'title': 'How many votes did each party '}\n",
      "{'_id': '66c6b793a74702e24ff8a187', 'pinned': True}\n",
      "{'_id': '66c72abefe49c0eee4dd2aa8', 'chat_id': '66c72abed4cc164de0d4bce8', 'archived': True, 'date': '2024-08-22', 'last_updated': datetime.datetime(2024, 8, 22, 22, 10, 38, 98000), 'pinned': False, 'title': 'I have a question about your s'}\n",
      "{'_id': '66c75270178d38c012d70941', 'chat_id': '66c752703880e1d606213bf4', 'archived': True, 'date': '2024-08-23', 'last_updated': datetime.datetime(2024, 8, 23, 1, 0, 0, 894000), 'pinned': False, 'title': 'I have a question about your s'}\n",
      "{'_id': '66c7d8e9178d38c012d70974', 'chat_id': '66c7d8e9a28ec5f1cf6d7200', 'archived': True, 'date': '2024-08-23', 'last_updated': datetime.datetime(2024, 8, 23, 10, 33, 45, 153000), 'pinned': False, 'title': 'I have a question about your s'}\n",
      "{'_id': '66c829ff178d38c012d709f6', 'chat_id': '66c829ff50ad710c79edccea', 'archived': True, 'date': '2024-08-23', 'last_updated': datetime.datetime(2024, 8, 23, 16, 19, 43, 185000), 'pinned': False, 'title': 'I have a question about your s'}\n",
      "{'_id': '66c8c2e4178d38c012d70ada', 'chat_id': '66c8c2e45dd82d23781eab0d', 'archived': False, 'date': '2024-08-24', 'last_updated': datetime.datetime(2024, 8, 24, 3, 35, 26, 393000), 'pinned': False, 'title': 'Hello, how can I help you?', 'documents': [{'doc_id': '66c8c5d3f014daa941503c56', 'filename': 'test.csv', 'file_type': 'csv', 'upload_date': datetime.datetime(2024, 8, 24, 3, 24, 35, 99000)}, {'doc_id': '66c8c85ef014daa941503c58', 'filename': 'valid_test.pdf', 'file_type': 'pdf', 'upload_date': datetime.datetime(2024, 8, 24, 3, 35, 26, 393000)}]}\n",
      "{'_id': '66c8c3fb178d38c012d70bb3', 'chat_id': '66c8c3fb5dd82d23781eab11', 'archived': False, 'date': '2024-08-24', 'last_updated': datetime.datetime(2024, 8, 24, 3, 16, 43, 883000), 'pinned': False, 'title': 'Yes, Shooot it!'}\n",
      "{'_id': '66c8c92b178d38c012d70f5d', 'chat_id': '66c8c92bf014daa941503c5a', 'archived': False, 'date': '2024-08-24', 'last_updated': datetime.datetime(2024, 8, 24, 3, 38, 51, 31000), 'pinned': False, 'title': ''}\n",
      "{'_id': '66c8df0a178d38c012d718df', 'chat_id': '66c8df0a56c1d646a6e9a460', 'archived': True, 'date': '2024-08-24', 'last_updated': datetime.datetime(2024, 8, 24, 5, 12, 10, 487000), 'pinned': False, 'title': 'I have a question about your s'}\n",
      "{'_id': '66c8e005178d38c012d7198b', 'chat_id': '66c8e00556c1d646a6e9a468', 'archived': True, 'date': '2024-08-24', 'last_updated': datetime.datetime(2024, 8, 24, 5, 16, 21, 15000), 'pinned': False, 'title': 'New Message Chat ID 2'}\n",
      "{'_id': '66c8e02e178d38c012d719b3', 'chat_id': '66c8e02e56c1d646a6e9a46e', 'archived': False, 'date': '2024-08-24', 'last_updated': datetime.datetime(2024, 8, 24, 5, 17, 2, 65000), 'pinned': True, 'title': 'New Message Chat ID 1'}\n",
      "{'_id': '66c8e02e178d38c012d719b5', 'chat_id': '66c8e02e56c1d646a6e9a470', 'archived': False, 'date': '2024-08-24', 'last_updated': datetime.datetime(2024, 8, 24, 5, 17, 2, 65000), 'pinned': False, 'title': 'New Message Chat ID 2'}\n",
      "Chat_id_1 unpinned.\n",
      "{'_id': '66c6b793fe49c0eee4dd200c', 'chat_id': '66c6b793a74702e24ff8a187', 'archived': False, 'date': '2024-08-22', 'last_updated': datetime.datetime(2024, 8, 22, 13, 59, 45, 362000), 'pinned': True, 'title': 'How many votes did each party '}\n",
      "{'_id': '66c6b793a74702e24ff8a187', 'pinned': True}\n",
      "{'_id': '66c72abefe49c0eee4dd2aa8', 'chat_id': '66c72abed4cc164de0d4bce8', 'archived': True, 'date': '2024-08-22', 'last_updated': datetime.datetime(2024, 8, 22, 22, 10, 38, 98000), 'pinned': False, 'title': 'I have a question about your s'}\n",
      "{'_id': '66c75270178d38c012d70941', 'chat_id': '66c752703880e1d606213bf4', 'archived': True, 'date': '2024-08-23', 'last_updated': datetime.datetime(2024, 8, 23, 1, 0, 0, 894000), 'pinned': False, 'title': 'I have a question about your s'}\n",
      "{'_id': '66c7d8e9178d38c012d70974', 'chat_id': '66c7d8e9a28ec5f1cf6d7200', 'archived': True, 'date': '2024-08-23', 'last_updated': datetime.datetime(2024, 8, 23, 10, 33, 45, 153000), 'pinned': False, 'title': 'I have a question about your s'}\n",
      "{'_id': '66c829ff178d38c012d709f6', 'chat_id': '66c829ff50ad710c79edccea', 'archived': True, 'date': '2024-08-23', 'last_updated': datetime.datetime(2024, 8, 23, 16, 19, 43, 185000), 'pinned': False, 'title': 'I have a question about your s'}\n",
      "{'_id': '66c8c2e4178d38c012d70ada', 'chat_id': '66c8c2e45dd82d23781eab0d', 'archived': False, 'date': '2024-08-24', 'last_updated': datetime.datetime(2024, 8, 24, 3, 35, 26, 393000), 'pinned': False, 'title': 'Hello, how can I help you?', 'documents': [{'doc_id': '66c8c5d3f014daa941503c56', 'filename': 'test.csv', 'file_type': 'csv', 'upload_date': datetime.datetime(2024, 8, 24, 3, 24, 35, 99000)}, {'doc_id': '66c8c85ef014daa941503c58', 'filename': 'valid_test.pdf', 'file_type': 'pdf', 'upload_date': datetime.datetime(2024, 8, 24, 3, 35, 26, 393000)}]}\n",
      "{'_id': '66c8c3fb178d38c012d70bb3', 'chat_id': '66c8c3fb5dd82d23781eab11', 'archived': False, 'date': '2024-08-24', 'last_updated': datetime.datetime(2024, 8, 24, 3, 16, 43, 883000), 'pinned': False, 'title': 'Yes, Shooot it!'}\n",
      "{'_id': '66c8c92b178d38c012d70f5d', 'chat_id': '66c8c92bf014daa941503c5a', 'archived': False, 'date': '2024-08-24', 'last_updated': datetime.datetime(2024, 8, 24, 3, 38, 51, 31000), 'pinned': False, 'title': ''}\n",
      "{'_id': '66c8df0a178d38c012d718df', 'chat_id': '66c8df0a56c1d646a6e9a460', 'archived': True, 'date': '2024-08-24', 'last_updated': datetime.datetime(2024, 8, 24, 5, 12, 10, 487000), 'pinned': False, 'title': 'I have a question about your s'}\n",
      "{'_id': '66c8e005178d38c012d7198b', 'chat_id': '66c8e00556c1d646a6e9a468', 'archived': True, 'date': '2024-08-24', 'last_updated': datetime.datetime(2024, 8, 24, 5, 16, 21, 15000), 'pinned': False, 'title': 'New Message Chat ID 2'}\n",
      "{'_id': '66c8e02e178d38c012d719b3', 'chat_id': '66c8e02e56c1d646a6e9a46e', 'archived': False, 'date': '2024-08-24', 'last_updated': datetime.datetime(2024, 8, 24, 5, 17, 2, 65000), 'pinned': False, 'title': 'New Message Chat ID 1'}\n",
      "{'_id': '66c8e02e178d38c012d719b5', 'chat_id': '66c8e02e56c1d646a6e9a470', 'archived': False, 'date': '2024-08-24', 'last_updated': datetime.datetime(2024, 8, 24, 5, 17, 2, 65000), 'pinned': False, 'title': 'New Message Chat ID 2'}\n",
      "\n",
      "Chat_id_2 archived.\n",
      "\n",
      "Search results for 'services':\n",
      "{'_id': '66c72abefe49c0eee4dd2aa8', 'chat_id': '66c72abed4cc164de0d4bce8', 'archived': True, 'date': '2024-08-22', 'last_updated': datetime.datetime(2024, 8, 22, 22, 10, 38, 98000), 'pinned': False, 'title': 'I have a question about your s', 'score': 1.9583333333333335}\n",
      "{'_id': '66c8df0a178d38c012d718df', 'chat_id': '66c8df0a56c1d646a6e9a460', 'archived': True, 'date': '2024-08-24', 'last_updated': datetime.datetime(2024, 8, 24, 5, 12, 10, 487000), 'pinned': False, 'title': 'I have a question about your s', 'score': 1.9583333333333335}\n",
      "{'_id': '66c7d8e9178d38c012d70974', 'chat_id': '66c7d8e9a28ec5f1cf6d7200', 'archived': True, 'date': '2024-08-23', 'last_updated': datetime.datetime(2024, 8, 23, 10, 33, 45, 153000), 'pinned': False, 'title': 'I have a question about your s', 'score': 1.9583333333333335}\n",
      "{'_id': '66c75270178d38c012d70941', 'chat_id': '66c752703880e1d606213bf4', 'archived': True, 'date': '2024-08-23', 'last_updated': datetime.datetime(2024, 8, 23, 1, 0, 0, 894000), 'pinned': False, 'title': 'I have a question about your s', 'score': 1.9583333333333335}\n",
      "{'_id': '66c829ff178d38c012d709f6', 'chat_id': '66c829ff50ad710c79edccea', 'archived': True, 'date': '2024-08-23', 'last_updated': datetime.datetime(2024, 8, 23, 16, 19, 43, 185000), 'pinned': False, 'title': 'I have a question about your s', 'score': 1.9583333333333335}\n",
      "\n",
      "Chat_id_1 deleted.\n"
     ]
    }
   ],
   "source": [
    "## Adding Functionality\n",
    "chat_id_1 = chat_history.add_message(None, \"New Message Chat ID 1\")\n",
    "chat_id_2 = chat_history.add_message(None, \"New Message Chat ID 2\")\n",
    "chat_history.add_message(chat_id_1, \"chatid one append 1\")\n",
    "chat_history.add_message(chat_id_2, \"chatid two append 1\")\n",
    "chat_history.add_message(chat_id_1, \"chatid one append 2\")\n",
    "chat_history.add_message(chat_id_2, \"chatid two append 2\")\n",
    "\n",
    "print(f\"chat id 1: {chat_id_1}, chat id 2: {chat_id_2}\")\n",
    "\n",
    "## Retrieving Functionality\n",
    "all_chats = chat_history.get_all_chats()\n",
    "print(\"All chats:\")\n",
    "for chat in all_chats:\n",
    "    print(chat)\n",
    "\n",
    "## Retrieving specific chat\n",
    "messages = chat_history.get_messages(chat_id_1)\n",
    "print(\"\\nMessages for chat_id_1:\")\n",
    "for message in messages:\n",
    "    print(message)\n",
    "\n",
    "## Retrieving most recent chats\n",
    "recent_chats = chat_history.get_recent_messages(chat_id=chat_id_1)\n",
    "print(\"\\nMost recent chats:\")\n",
    "for chat in recent_chats:\n",
    "    print(chat)\n",
    "\n",
    "## Pinning Unpinning\n",
    "chat_history.pin_chat(chat_id_1)\n",
    "print(\"\\nChat_id_1 pinned.\")\n",
    "all_chats = chat_history.get_all_chats()\n",
    "for chat in all_chats:\n",
    "    print(chat)\n",
    "chat_history.unpin_chat(chat_id_1)\n",
    "print(\"Chat_id_1 unpinned.\")\n",
    "all_chats = chat_history.get_all_chats()\n",
    "for chat in all_chats:\n",
    "    print(chat)\n",
    "\n",
    "## Archiving\n",
    "chat_history.archive_chat(chat_id_2)\n",
    "print(\"\\nChat_id_2 archived.\")\n",
    "\n",
    "## Test Search\n",
    "search_results = chat_history.search_chats(\"services\")\n",
    "print(\"\\nSearch results for 'services':\")\n",
    "for result in search_results:\n",
    "    print(result)\n",
    "\n",
    "## Test Delete\n",
    "chat_history.delete_chat(chat_id_1)\n",
    "print(\"\\nChat_id_1 deleted.\")\n"
   ]
  },
  {
   "cell_type": "markdown",
   "metadata": {},
   "source": [
    "## Test 2: try3.py"
   ]
  },
  {
   "cell_type": "code",
   "execution_count": 14,
   "metadata": {},
   "outputs": [],
   "source": [
    "import requests\n",
    "\n",
    "base_url = \"http://127.0.0.1:8000\"\n",
    "\n",
    "def test_fetch_chat_history(user_id):\n",
    "    response = requests.get(f\"{base_url}/api/chats/all\", params={\"user_id\": user_id})\n",
    "    if response.status_code == 200:\n",
    "        return response.json()\n",
    "    else:\n",
    "        raise Exception(f\"Error: {response.status_code} - {response.text}\")\n",
    "\n",
    "def test_fetch_messages(chat_id, user_id):\n",
    "    response = requests.get(f\"{base_url}/api/chats/{chat_id}/messages\", params={\"user_id\": user_id})\n",
    "    if response.status_code == 200:\n",
    "        return response.json()\n",
    "    else:\n",
    "        raise Exception(f\"Error: {response.status_code} - {response.text}\")\n",
    "    \n",
    "def test_handle_send(message_content, chat_id=None, user_id='test_user'):\n",
    "    payload = {\n",
    "        \"content\": message_content,\n",
    "        \"chat_id\": chat_id\n",
    "    }\n",
    "    response = requests.post(f\"{base_url}/api/messages/send\", params={\"user_id\": user_id}, json=payload)\n",
    "    if response.status_code == 200:\n",
    "        return response.json()\n",
    "    else:\n",
    "        raise Exception(f\"Error: {response.status_code} - {response.text}\")\n",
    "\n",
    "def test_handle_pin_chat(chat_id, user_id='test_user'):\n",
    "    response = requests.put(f\"{base_url}/api/chats/{chat_id}/pin\", params={\"user_id\": user_id})\n",
    "    if response.status_code == 200:\n",
    "        return response.json()\n",
    "    else:\n",
    "        raise Exception(f\"Error: {response.status_code} - {response.text}\")\n",
    "\n",
    "def test_handle_delete_chat(chat_id, user_id='test_user'):\n",
    "    response = requests.delete(f\"{base_url}/api/chats/{chat_id}/delete\", params={\"user_id\": user_id})\n",
    "    if response.status_code == 200:\n",
    "        return response.json()\n",
    "    else:\n",
    "        raise Exception(f\"Error: {response.status_code} - {response.text}\")\n",
    "\n",
    "def test_handle_archive_chat(chat_id, user_id='test_user'):\n",
    "    response = requests.put(f\"{base_url}/api/chats/{chat_id}/archive\", params={\"user_id\": user_id})\n",
    "    if response.status_code == 200:\n",
    "        return response.json()\n",
    "    else:\n",
    "        raise Exception(f\"Error: {response.status_code} - {response.text}\")\n",
    "\n",
    "def test_handle_search(term, user_id='test_user'):\n",
    "    response = requests.get(f\"{base_url}/api/chats/search\", params={\"term\": term, \"user_id\": user_id})\n",
    "    if response.status_code == 200:\n",
    "        return response.json()\n",
    "    else:\n",
    "        raise Exception(f\"Error: {response.status_code} - {response.text}\")\n",
    "\n",
    "\n"
   ]
  },
  {
   "cell_type": "code",
   "execution_count": null,
   "metadata": {},
   "outputs": [],
   "source": [
    "from pymongo import MongoClient\n",
    "user_id = 'test_user'\n",
    "chat_id = '66c6b793a74702e24ff8a187'\n",
    "client = MongoClient(\"mongodb://localhost:27017/\")\n",
    "db = client['ChatHistoryDB']\n",
    "collection = db[str(user_id)]\n",
    "\n",
    "print(test_fetch_chat_history('test_user'))\n",
    "print(\"*--\"*20)\n",
    "print(test_fetch_messages(chat_id, 'test_user'))\n",
    "print(\"*--\"*20)\n",
    "print(test_handle_send(\"How many votes did each party get in the 2022 election?\"))\n",
    "print(\"*--\"*20)\n",
    "print(test_fetch_messages(chat_id, 'test_user'))\n",
    "print(\"*--\"*20)\n",
    "print(test_handle_pin_chat(chat_id, 'test_user'))\n",
    "print(collection.find_one({\"chat_id\": '66c6b793a74702e24ff8a187'}))\n",
    "print(\"*--\"*20)\n",
    "print(test_handle_search('election'))\n",
    "print(\"*--\"*20)\n",
    "print(test_handle_archive_chat(chat_id))\n",
    "print(collection.find_one({\"chat_id\": chat_id}))\n",
    "print(\"*--\"*20)\n",
    "print(test_handle_delete_chat(chat_id))\n",
    "print(collection.find_one({\"chat_id\": chat_id}))"
   ]
  },
  {
   "cell_type": "markdown",
   "metadata": {},
   "source": [
    "## Workflow Unfold. Check Any part"
   ]
  },
  {
   "cell_type": "code",
   "execution_count": 1,
   "metadata": {},
   "outputs": [
    {
     "data": {
      "text/plain": [
       "True"
      ]
     },
     "execution_count": 1,
     "metadata": {},
     "output_type": "execute_result"
    }
   ],
   "source": [
    "from AI_Stuff.Agent_Helpers import load_elecdata_postgres, clean_sql_query, SQLCoder, DDLCommandException\n",
    "from AI_Stuff.CustomAgents import SQLExpert, ResponseSummarizer\n",
    "from langchain_openai import ChatOpenAI\n",
    "from dotenv import load_dotenv\n",
    "\n",
    "load_dotenv()"
   ]
  },
  {
   "cell_type": "code",
   "execution_count": 2,
   "metadata": {},
   "outputs": [],
   "source": [
    "db = load_elecdata_postgres()\n",
    "dialect = db.dialect\n",
    "llm = ChatOpenAI(\n",
    "    model=\"gpt-4o\",\n",
    "    temperature=0,\n",
    "    max_tokens=None,\n",
    "    timeout=None,\n",
    "    max_retries=2\n",
    ")\n",
    "schema_info = db.get_table_info()\n",
    "sql_coder_agent = SQLExpert(llm = llm)\n",
    "sql_query_tool = SQLCoder(db=db)\n",
    "response_summarizer_agent = ResponseSummarizer(llm=llm)"
   ]
  },
  {
   "cell_type": "code",
   "execution_count": 3,
   "metadata": {},
   "outputs": [
    {
     "name": "stdout",
     "output_type": "stream",
     "text": [
      "WITH recent_senatepreference AS (\n",
      "    SELECT id, votes_transferred, created, ballot_position, order_elected, papers, progressive_total, transfer_value, status, comment, candidate_id, election_id, round_id, source_candidate_id\n",
      "    FROM elecdata_senatepreference\n",
      "    ORDER BY created DESC\n",
      "    LIMIT 3\n",
      ")\n",
      "SELECT id, votes_transferred, created, ballot_position, order_elected, papers, progressive_total, transfer_value, status, comment, candidate_id, election_id, round_id, source_candidate_id\n",
      "FROM recent_senatepreference\n"
     ]
    }
   ],
   "source": [
    "user_query = \"What are the most recent 3 records in elecdata_senatepreference table\"\n",
    "\n",
    "sql_query = sql_coder_agent.generate_query(\n",
    "            user_query = user_query\n",
    "            , dialect='postgres'\n",
    "            , table_info=schema_info\n",
    "            , chat_history=''\n",
    "        )\n",
    "sql_query = clean_sql_query(sql_query)\n",
    "print(sql_query)"
   ]
  },
  {
   "cell_type": "code",
   "execution_count": 4,
   "metadata": {},
   "outputs": [],
   "source": [
    "# res = sql_query_tool.query_runner.invoke(sql_query)\n",
    "# print(res)\n",
    "\n",
    "# import re\n",
    "# from decimal import Decimal\n",
    "\n",
    "# def _parse_decimal(match):\n",
    "#     value = match.group(1)\n",
    "#     return Decimal(value)\n",
    "\n",
    "\n",
    "# import datetime\n",
    "\n",
    "# def _parse_datetime(match):\n",
    "#     date_args = list(map(int, match.group(1).split(',')))\n",
    "#     if match.group(2):  # Check if 'tzinfo' is present in the match\n",
    "#         dt = datetime.datetime(*date_args, tzinfo=datetime.timezone.utc)\n",
    "#     else:\n",
    "#         dt = datetime.datetime(*date_args)\n",
    "#     return f\"'{dt.isoformat()}'\"\n",
    "# import ast\n",
    "\n",
    "# def _custom_parser(res_str: str):\n",
    "#     # Replace Decimal instances\n",
    "#     res_str = re.sub(\n",
    "#         r\"Decimal\\('([^']+)'\\)\",\n",
    "#         lambda m: str(_parse_decimal(m)),\n",
    "#         res_str\n",
    "#     )\n",
    "#     # Replace datetime.datetime instances with or without timezone\n",
    "#     res_str = re.sub(\n",
    "#         r\"datetime\\.datetime\\(([\\d, ]+)(, tzinfo=datetime\\.timezone\\.utc)?\\)\",\n",
    "#         _parse_datetime,\n",
    "#         res_str\n",
    "#     )\n",
    "#     # Safely evaluate the string as a literal\n",
    "#     return ast.literal_eval(res_str)\n",
    "\n",
    "\n",
    "# res = _custom_parser(res)\n",
    "# res = pd.DataFrame.from_records(data=res, columns=range(len(res[0])))"
   ]
  },
  {
   "cell_type": "code",
   "execution_count": 5,
   "metadata": {},
   "outputs": [
    {
     "name": "stdout",
     "output_type": "stream",
     "text": [
      "        id  votes_transferred                           created  \\\n",
      "0  2001468                178  2024-05-13T02:28:31.276057+00:00   \n",
      "1  2001467                178  2024-05-13T02:28:31.268070+00:00   \n",
      "2  2001466                178  2024-05-13T02:28:31.259094+00:00   \n",
      "\n",
      "   ballot_position  order_elected  papers  progressive_total  \\\n",
      "0             1002              0       0                 97   \n",
      "1             1001              0     107                347   \n",
      "2               55              0       0                  0   \n",
      "\n",
      "                    transfer_value    status  \\\n",
      "0                            0E-29             \n",
      "1  0.11860884137659100000000000000             \n",
      "2                            0E-29  Excluded   \n",
      "\n",
      "                                             comment  candidate_id  \\\n",
      "0  SIEWERT, R has been elected at count 178 with ...          5018   \n",
      "1  SIEWERT, R has been elected at count 178 with ...          5017   \n",
      "2  SIEWERT, R has been elected at count 178 with ...          6657   \n",
      "\n",
      "   election_id  round_id source_candidate_id  \n",
      "0           20     21064                None  \n",
      "1           20     21064                None  \n",
      "2           20     21064                None  \n"
     ]
    }
   ],
   "source": [
    "if \"CREATE\" in sql_query or \"DELETE\" in sql_query or \"UPDATE\" in sql_query or \"ALTER\" in sql_query:\n",
    "    raise DDLCommandException\n",
    "else:\n",
    "    data = sql_query_tool.execute_query(sql_query)\n",
    "    print(data)"
   ]
  },
  {
   "cell_type": "code",
   "execution_count": null,
   "metadata": {},
   "outputs": [],
   "source": [
    "response = response_summarizer_agent.summarize(user_query=user_query, dataframe=data)\n",
    "print(response)"
   ]
  },
  {
   "cell_type": "markdown",
   "metadata": {},
   "source": [
    "## Test Workflow Cabilities (22 Aug)"
   ]
  },
  {
   "cell_type": "code",
   "execution_count": 1,
   "metadata": {},
   "outputs": [],
   "source": [
    "from AI_Stuff.Workflows import elecdataworkflow\n",
    "import time\n",
    "workflow = elecdataworkflow()"
   ]
  },
  {
   "cell_type": "code",
   "execution_count": 2,
   "metadata": {},
   "outputs": [
    {
     "name": "stderr",
     "output_type": "stream",
     "text": [
      "INFO:httpx:HTTP Request: POST https://api.openai.com/v1/chat/completions \"HTTP/1.1 200 OK\"\n",
      "INFO:httpx:HTTP Request: POST https://api.openai.com/v1/chat/completions \"HTTP/1.1 200 OK\"\n",
      "INFO:httpx:HTTP Request: POST https://api.openai.com/v1/chat/completions \"HTTP/1.1 200 OK\"\n",
      "INFO:httpx:HTTP Request: POST https://api.openai.com/v1/chat/completions \"HTTP/1.1 200 OK\"\n",
      "INFO:httpx:HTTP Request: POST https://api.openai.com/v1/chat/completions \"HTTP/1.1 200 OK\"\n",
      "INFO:httpx:HTTP Request: POST https://api.openai.com/v1/chat/completions \"HTTP/1.1 200 OK\"\n",
      "INFO:httpx:HTTP Request: POST https://api.openai.com/v1/chat/completions \"HTTP/1.1 200 OK\"\n",
      "INFO:httpx:HTTP Request: POST https://api.openai.com/v1/chat/completions \"HTTP/1.1 200 OK\"\n",
      "INFO:httpx:HTTP Request: POST https://api.openai.com/v1/chat/completions \"HTTP/1.1 200 OK\"\n"
     ]
    },
    {
     "name": "stdout",
     "output_type": "stream",
     "text": [
      "Question: Analyze the distribution of vacancies across states. What observations can you make?\n",
      "Response: \"Vacancies are unevenly distributed across states. TAS, QLD, and VIC each have 36 vacancies. WA and SA have 24 each. NT has 2 and 8 vacancies. ACT has 10 vacancies. Note a potential data entry issue with trailing spaces for WA and SA.\"\n",
      "\n",
      "------------------------------------------------------------\n"
     ]
    },
    {
     "name": "stderr",
     "output_type": "stream",
     "text": [
      "INFO:httpx:HTTP Request: POST https://api.openai.com/v1/chat/completions \"HTTP/1.1 200 OK\"\n",
      "INFO:httpx:HTTP Request: POST https://api.openai.com/v1/chat/completions \"HTTP/1.1 200 OK\"\n",
      "INFO:httpx:HTTP Request: POST https://api.openai.com/v1/chat/completions \"HTTP/1.1 429 Too Many Requests\"\n",
      "INFO:openai._base_client:Retrying request to /chat/completions in 17.772000 seconds\n",
      "INFO:httpx:HTTP Request: POST https://api.openai.com/v1/chat/completions \"HTTP/1.1 200 OK\"\n"
     ]
    },
    {
     "name": "stdout",
     "output_type": "stream",
     "text": [
      "Question: Compare the quota values for different . What might explain the differences?\n",
      "Response: Invalid User Query - Not related to the Database\n",
      "\n",
      "------------------------------------------------------------\n"
     ]
    },
    {
     "name": "stderr",
     "output_type": "stream",
     "text": [
      "INFO:httpx:HTTP Request: POST https://api.openai.com/v1/chat/completions \"HTTP/1.1 200 OK\"\n",
      "INFO:httpx:HTTP Request: POST https://api.openai.com/v1/chat/completions \"HTTP/1.1 200 OK\"\n",
      "INFO:httpx:HTTP Request: POST https://api.openai.com/v1/chat/completions \"HTTP/1.1 429 Too Many Requests\"\n",
      "INFO:openai._base_client:Retrying request to /chat/completions in 16.590000 seconds\n",
      "INFO:httpx:HTTP Request: POST https://api.openai.com/v1/chat/completions \"HTTP/1.1 200 OK\"\n"
     ]
    },
    {
     "name": "stdout",
     "output_type": "stream",
     "text": [
      "Question: What patterns do you notice in the transfer of votes between candidates?\n",
      "Response: Invalid User Query - Not related to the Database\n",
      "\n",
      "------------------------------------------------------------\n"
     ]
    },
    {
     "name": "stderr",
     "output_type": "stream",
     "text": [
      "INFO:httpx:HTTP Request: POST https://api.openai.com/v1/chat/completions \"HTTP/1.1 200 OK\"\n",
      "INFO:httpx:HTTP Request: POST https://api.openai.com/v1/chat/completions \"HTTP/1.1 200 OK\"\n",
      "INFO:httpx:HTTP Request: POST https://api.openai.com/v1/chat/completions \"HTTP/1.1 429 Too Many Requests\"\n",
      "INFO:openai._base_client:Retrying request to /chat/completions in 12.648000 seconds\n",
      "INFO:httpx:HTTP Request: POST https://api.openai.com/v1/chat/completions \"HTTP/1.1 200 OK\"\n",
      "INFO:httpx:HTTP Request: POST https://api.openai.com/v1/chat/completions \"HTTP/1.1 429 Too Many Requests\"\n",
      "INFO:openai._base_client:Retrying request to /chat/completions in 0.838107 seconds\n",
      "INFO:httpx:HTTP Request: POST https://api.openai.com/v1/chat/completions \"HTTP/1.1 429 Too Many Requests\"\n",
      "INFO:openai._base_client:Retrying request to /chat/completions in 1.750556 seconds\n",
      "INFO:httpx:HTTP Request: POST https://api.openai.com/v1/chat/completions \"HTTP/1.1 429 Too Many Requests\"\n"
     ]
    },
    {
     "name": "stdout",
     "output_type": "stream",
     "text": [
      "Question: Calculate the total votes received and the percentage of total votes for each candidate.\n",
      "Response: Please try again, an error occured: Error code: 429 - {'error': {'message': 'Request too large for gpt-4o in organization org-TRrZAIH9Gw4ggp0Nv8IChwBB on tokens per min (TPM): Limit 30000, Requested 97598. The input or output tokens must be reduced in order to run successfully. Visit https://platform.openai.com/account/rate-limits to learn more.', 'type': 'tokens', 'param': None, 'code': 'rate_limit_exceeded'}}\n",
      "\n",
      "------------------------------------------------------------\n"
     ]
    },
    {
     "name": "stderr",
     "output_type": "stream",
     "text": [
      "INFO:httpx:HTTP Request: POST https://api.openai.com/v1/chat/completions \"HTTP/1.1 200 OK\"\n",
      "INFO:httpx:HTTP Request: POST https://api.openai.com/v1/chat/completions \"HTTP/1.1 200 OK\"\n",
      "INFO:httpx:HTTP Request: POST https://api.openai.com/v1/chat/completions \"HTTP/1.1 429 Too Many Requests\"\n",
      "INFO:openai._base_client:Retrying request to /chat/completions in 13.594000 seconds\n",
      "INFO:httpx:HTTP Request: POST https://api.openai.com/v1/chat/completions \"HTTP/1.1 200 OK\"\n",
      "INFO:httpx:HTTP Request: POST https://api.openai.com/v1/chat/completions \"HTTP/1.1 200 OK\"\n",
      "INFO:httpx:HTTP Request: POST https://api.openai.com/v1/chat/completions \"HTTP/1.1 200 OK\"\n",
      "INFO:httpx:HTTP Request: POST https://api.openai.com/v1/chat/completions \"HTTP/1.1 200 OK\"\n",
      "INFO:httpx:HTTP Request: POST https://api.openai.com/v1/chat/completions \"HTTP/1.1 200 OK\"\n",
      "INFO:httpx:HTTP Request: POST https://api.openai.com/v1/chat/completions \"HTTP/1.1 200 OK\"\n",
      "INFO:httpx:HTTP Request: POST https://api.openai.com/v1/chat/completions \"HTTP/1.1 200 OK\"\n",
      "INFO:httpx:HTTP Request: POST https://api.openai.com/v1/chat/completions \"HTTP/1.1 200 OK\"\n"
     ]
    },
    {
     "name": "stdout",
     "output_type": "stream",
     "text": [
      "Question: Identify any correlations between primary votes and the state or location of voting.\n",
      "Response: Primary votes vary significantly by state. The ACT has the highest average at 71.12, while NSW has the lowest at 10.70. Other states range between 13.59 and 41.71, indicating that location influences primary votes.\n",
      "\n",
      "------------------------------------------------------------\n"
     ]
    },
    {
     "name": "stderr",
     "output_type": "stream",
     "text": [
      "INFO:httpx:HTTP Request: POST https://api.openai.com/v1/chat/completions \"HTTP/1.1 200 OK\"\n",
      "INFO:httpx:HTTP Request: POST https://api.openai.com/v1/chat/completions \"HTTP/1.1 200 OK\"\n",
      "INFO:httpx:HTTP Request: POST https://api.openai.com/v1/chat/completions \"HTTP/1.1 429 Too Many Requests\"\n",
      "INFO:openai._base_client:Retrying request to /chat/completions in 0.913816 seconds\n",
      "INFO:httpx:HTTP Request: POST https://api.openai.com/v1/chat/completions \"HTTP/1.1 429 Too Many Requests\"\n",
      "INFO:openai._base_client:Retrying request to /chat/completions in 1.555300 seconds\n",
      "INFO:httpx:HTTP Request: POST https://api.openai.com/v1/chat/completions \"HTTP/1.1 429 Too Many Requests\"\n"
     ]
    },
    {
     "name": "stdout",
     "output_type": "stream",
     "text": [
      "Question: Compare the performance of candidates across different voting methods (ordinary, postal, pre-poll, etc.). What trends do you observe?\n",
      "Response: Please try again, an error occured: Error code: 429 - {'error': {'message': 'Request too large for gpt-4o in organization org-TRrZAIH9Gw4ggp0Nv8IChwBB on tokens per min (TPM): Limit 30000, Requested 93958. The input or output tokens must be reduced in order to run successfully. Visit https://platform.openai.com/account/rate-limits to learn more.', 'type': 'tokens', 'param': None, 'code': 'rate_limit_exceeded'}}\n",
      "\n",
      "------------------------------------------------------------\n"
     ]
    }
   ],
   "source": [
    "# questions = [\"Analyze the distribution of vacancies across states in the elecdata_pool table. What observations can you make?\"\n",
    "#     ,\"Compare the quota values for different states in the elecdata_pool table. What might explain the differences?\"\n",
    "#     ,\"Examine the elecdata_senatepreference table. What patterns do you notice in the transfer of votes between candidates?\"\n",
    "#     ,\"Using the elecdata_candidatepreference table, calculate the total votes received and the percentage of total votes for each candidate in the sample.\"\n",
    "#     ,\"Analyze the elecdata_votestack table to identify any correlations between primary votes and the state or location of voting.\"\n",
    "#     ,\"Using the elecdata_votetally table, compare the performance of candidates across different voting methods (ordinary, postal, pre-poll, etc.). What trends do you observe?\"\n",
    "#     ,\"Examine the elecdata_senateround table. How does the number of rounds vary between different pools, and what might this indicate about the competitiveness of the elections?\"\n",
    "#     ,\"Combine data from the elecdata_contention and elecdata_votetally tables to analyze how ballot position correlates with the number of primary votes received. What conclusions can you draw?\"\n",
    "#     ,\"Using data from multiple tables (elecdata_houseelection, elecdata_seat, elecdata_contention, elecdata_votetally), perform a comprehensive analysis of voting patterns and party performance across different elections and regions. Identify any notable trends or shifts in voter behavior.\"\n",
    "# ]\n",
    "\n",
    "questions = [\"Analyze the distribution of vacancies across states. What observations can you make?\"\n",
    "    ,\"Compare the quota values for different . What might explain the differences?\"\n",
    "    ,\"What patterns do you notice in the transfer of votes between candidates?\"\n",
    "    ,\"Calculate the total votes received and the percentage of total votes for each candidate.\"\n",
    "    ,\"Identify any correlations between primary votes and the state or location of voting.\"\n",
    "    ,\"Compare the performance of candidates across different voting methods (ordinary, postal, pre-poll, etc.). What trends do you observe?\"\n",
    "    ,\"How does the number of rounds vary between different pools, and what might this indicate about the competitiveness of the elections?\"\n",
    "    ,\"Analyze how ballot position correlates with the number of primary votes received. What conclusions can you draw?\"\n",
    "    ,\"Perform a comprehensive analysis of voting patterns and party performance across different elections and regions. Identify any notable trends or shifts in voter behavior.\"\n",
    "]\n",
    "\n",
    "for question in questions:\n",
    "    res = workflow.run(user_query=question)\n",
    "    print(f\"Question: {question}\\nResponse: {res}\\n\")\n",
    "    print('---'*20)\n",
    "    time.sleep(180)"
   ]
  },
  {
   "cell_type": "markdown",
   "metadata": {},
   "source": [
    "## Testing Agent_Helpers.py 23-Aug"
   ]
  },
  {
   "cell_type": "code",
   "execution_count": 1,
   "metadata": {},
   "outputs": [],
   "source": [
    "# Import necessary modules\n",
    "from AI_Stuff.Agent_Helpers import load_polimap_postgres, load_elecdata_postgres, load_llm, web_search, SQLCoder, ChatHistory\n",
    "from langchain_community.tools.sql_database.tool import QuerySQLDataBaseTool\n",
    "from langchain_community.utilities import SQLDatabase\n",
    "from langchain_openai import ChatOpenAI\n",
    "from langchain_anthropic import ChatAnthropic\n",
    "from langchain_community.tools import DuckDuckGoSearchRun\n",
    "import tiktoken\n",
    "import requests\n",
    "from bs4 import BeautifulSoup\n",
    "from PyPDF2 import PdfReader\n",
    "from pymongo import MongoClient, TEXT\n",
    "from bson import ObjectId\n",
    "import gridfs\n",
    "import io\n",
    "import os\n",
    "from dotenv import load_dotenv\n",
    "import pandas as pd\n",
    "import re\n",
    "import ast\n",
    "from decimal import Decimal\n",
    "import datetime\n",
    "import json\n",
    "import logging\n",
    "from typing import Tuple"
   ]
  },
  {
   "cell_type": "code",
   "execution_count": 2,
   "metadata": {},
   "outputs": [
    {
     "name": "stderr",
     "output_type": "stream",
     "text": [
      "c:\\Users\\rajna\\AppData\\Local\\Programs\\Python\\Python312\\Lib\\site-packages\\langchain_community\\utilities\\sql_database.py:123: SAWarning: Did not recognize type 'geometry' of column 'geometry'\n",
      "  self._metadata.reflect(\n",
      "c:\\Users\\rajna\\AppData\\Local\\Programs\\Python\\Python312\\Lib\\site-packages\\langchain_community\\utilities\\sql_database.py:123: SAWarning: Did not recognize type 'geometry' of column 'Location'\n",
      "  self._metadata.reflect(\n",
      "c:\\Users\\rajna\\AppData\\Local\\Programs\\Python\\Python312\\Lib\\site-packages\\langchain_community\\utilities\\sql_database.py:123: SAWarning: Did not recognize type 'geometry' of column 'Geometry'\n",
      "  self._metadata.reflect(\n"
     ]
    },
    {
     "name": "stdout",
     "output_type": "stream",
     "text": [
      "Postgres connections successful.\n"
     ]
    }
   ],
   "source": [
    "# Test PostgreSQL database connection\n",
    "try:\n",
    "    db1 = load_polimap_postgres()\n",
    "    db2 = load_elecdata_postgres()\n",
    "    if isinstance(db1, SQLDatabase) and isinstance(db2, SQLDatabase):\n",
    "        print(\"Postgres connections successful.\")\n",
    "    else:\n",
    "        print(\"Error connecting to Postgres.\")\n",
    "except Exception as e:\n",
    "    print(f\"Error connecting to Postgres: {e}\")"
   ]
  },
  {
   "cell_type": "code",
   "execution_count": 3,
   "metadata": {},
   "outputs": [
    {
     "name": "stdout",
     "output_type": "stream",
     "text": [
      "LLMs loaded successfully.\n"
     ]
    }
   ],
   "source": [
    "# Test LLM loading\n",
    "try:\n",
    "    openai_llm = load_llm(llm_name='gpt', model='gpt-4o')\n",
    "    anthropic_llm = load_llm(llm_name='claude', model='claude-3-opus-20240229')\n",
    "    if isinstance(openai_llm, ChatOpenAI) and isinstance(anthropic_llm, ChatAnthropic):\n",
    "        print(\"LLMs loaded successfully.\")\n",
    "    else:\n",
    "        print(\"Error loading LLMs.\")\n",
    "except Exception as e:\n",
    "    print(f\"Error loading LLMs: {e}\")"
   ]
  },
  {
   "cell_type": "code",
   "execution_count": 4,
   "metadata": {},
   "outputs": [
    {
     "name": "stderr",
     "output_type": "stream",
     "text": [
      "INFO:primp:response: https://duckduckgo.com/ 200 18287\n",
      "INFO:primp:response: https://links.duckduckgo.com/d.js?q=How+many+votes+did+each+party+get+in+the+2022+election%3F&kl=wt-wt&l=wt-wt&p=&s=0&df=y&vqd=4-309800844300428332574752886684268846046&bing_market=wt-WT&ex=-1 200 25734\n"
     ]
    },
    {
     "data": {
      "text/plain": [
       "'2022 Election Results. ... In each of these seats, the winning party expanded their win margin in 2022. Vote margin. D+80. D+60. D+40. ... How and when states vote on Nov. 8. 2022 Election Results. ... In each of these seats, the winning party expanded their win margin in 2022. Vote margin. D+60. D+40. ... How and when states vote on Nov. 8. Election Date: Nov. 8, 2022 | Updated 12:07 AM EDT Nov. 2, 2023. All 435 U.S. House seats are up for election this year. Of those, 212 currently belong to Republicans and 220 to Democrats, with 3 ... Premium Statistic U.S. midterm election women running for Senate 2022, by party Historical context Basic Statistic Job approval ratings of U.S. presidents at midterm elections 1946-2022 APRIL 23, 2024 — The voter registration rate (69.1%) for the 2022 congressional election was the highest registration rate of a midterm election in 30 years. However, the voter turnout rate (52.2%) was lower than in the 2018 (53.4%) midterm elections, according to the new Voting and Registration in the Election of November 2022 report released today by the U.S. Census Bureau.'"
      ]
     },
     "execution_count": 4,
     "metadata": {},
     "output_type": "execute_result"
    }
   ],
   "source": [
    "web_search(\"How many votes did each party get in the 2022 election?\")"
   ]
  },
  {
   "cell_type": "code",
   "execution_count": 18,
   "metadata": {},
   "outputs": [
    {
     "name": "stdout",
     "output_type": "stream",
     "text": [
      "SQL Query Result:      primary_votes\n",
      "0              434\n",
      "1              434\n",
      "2              434\n",
      "3              434\n",
      "4              434\n",
      "..             ...\n",
      "100            434\n",
      "101            434\n",
      "102            434\n",
      "103            434\n",
      "104            434\n",
      "\n",
      "[105 rows x 1 columns]\n"
     ]
    }
   ],
   "source": [
    "# Test SQLCoder\n",
    "try:\n",
    "    sql_coder = SQLCoder(db2)\n",
    "    query = \"\"\"SELECT primary_votes FROM elecdata_votestack where primary_votes = 434;\"\"\"\n",
    "    df = sql_coder.execute_query(query)\n",
    "    print(\"SQL Query Result:\", df)\n",
    "except Exception as e:\n",
    "    print(f\"Error executing SQL query: {e}\")"
   ]
  },
  {
   "cell_type": "markdown",
   "metadata": {},
   "source": [
    "## Testing ChatHistory 23-Aug"
   ]
  },
  {
   "cell_type": "code",
   "execution_count": 1,
   "metadata": {},
   "outputs": [],
   "source": [
    "from AI_Stuff.Agent_Helpers import ChatHistory\n",
    "\n",
    "# Create an instance of the ChatHistory class\n",
    "chat_history = ChatHistory(user_id=\"test_user\")\n"
   ]
  },
  {
   "cell_type": "code",
   "execution_count": 2,
   "metadata": {},
   "outputs": [
    {
     "data": {
      "text/plain": [
       "[{'_id': '66c6b793fe49c0eee4dd200c',\n",
       "  'chat_id': '66c6b793a74702e24ff8a187',\n",
       "  'archived': False,\n",
       "  'date': '2024-08-22',\n",
       "  'last_updated': datetime.datetime(2024, 8, 22, 13, 59, 45, 362000),\n",
       "  'pinned': True,\n",
       "  'title': 'How many votes did each party '},\n",
       " {'_id': '66c6b793a74702e24ff8a187', 'pinned': True},\n",
       " {'_id': '66c72abefe49c0eee4dd2aa8',\n",
       "  'chat_id': '66c72abed4cc164de0d4bce8',\n",
       "  'archived': True,\n",
       "  'date': '2024-08-22',\n",
       "  'last_updated': datetime.datetime(2024, 8, 22, 22, 10, 38, 98000),\n",
       "  'pinned': False,\n",
       "  'title': 'I have a question about your s'},\n",
       " {'_id': '66c75270178d38c012d70941',\n",
       "  'chat_id': '66c752703880e1d606213bf4',\n",
       "  'archived': True,\n",
       "  'date': '2024-08-23',\n",
       "  'last_updated': datetime.datetime(2024, 8, 23, 1, 0, 0, 894000),\n",
       "  'pinned': False,\n",
       "  'title': 'I have a question about your s'},\n",
       " {'_id': '66c7d8e9178d38c012d70974',\n",
       "  'chat_id': '66c7d8e9a28ec5f1cf6d7200',\n",
       "  'archived': True,\n",
       "  'date': '2024-08-23',\n",
       "  'last_updated': datetime.datetime(2024, 8, 23, 10, 33, 45, 153000),\n",
       "  'pinned': False,\n",
       "  'title': 'I have a question about your s'},\n",
       " {'_id': '66c829ff178d38c012d709f6',\n",
       "  'chat_id': '66c829ff50ad710c79edccea',\n",
       "  'archived': True,\n",
       "  'date': '2024-08-23',\n",
       "  'last_updated': datetime.datetime(2024, 8, 23, 16, 19, 43, 185000),\n",
       "  'pinned': False,\n",
       "  'title': 'I have a question about your s'},\n",
       " {'_id': '66c8c2e4178d38c012d70ada',\n",
       "  'chat_id': '66c8c2e45dd82d23781eab0d',\n",
       "  'archived': False,\n",
       "  'date': '2024-08-24',\n",
       "  'last_updated': datetime.datetime(2024, 8, 24, 3, 17, 29, 203000),\n",
       "  'pinned': False,\n",
       "  'title': 'Hello, how can I help you?'},\n",
       " {'_id': '66c8c3fb178d38c012d70bb3',\n",
       "  'chat_id': '66c8c3fb5dd82d23781eab11',\n",
       "  'archived': False,\n",
       "  'date': '2024-08-24',\n",
       "  'last_updated': datetime.datetime(2024, 8, 24, 3, 16, 43, 883000),\n",
       "  'pinned': False,\n",
       "  'title': 'Yes, Shooot it!'}]"
      ]
     },
     "execution_count": 2,
     "metadata": {},
     "output_type": "execute_result"
    }
   ],
   "source": [
    "chats = chat_history.get_all_chats()\n",
    "chats"
   ]
  },
  {
   "cell_type": "code",
   "execution_count": 3,
   "metadata": {},
   "outputs": [
    {
     "data": {
      "text/plain": [
       "'66c8c2e45dd82d23781eab0d'"
      ]
     },
     "execution_count": 3,
     "metadata": {},
     "output_type": "execute_result"
    }
   ],
   "source": [
    "# Add messages to a chat session\n",
    "chat_id = chat_history.add_message(chat_id='66c8c2e45dd82d23781eab0d', content=\"Yes, Shooot it!\", is_user=False)\n",
    "chat_history.add_message(chat_id=chat_id, content=\"Just testing\", is_user=True)"
   ]
  },
  {
   "cell_type": "code",
   "execution_count": 4,
   "metadata": {},
   "outputs": [
    {
     "name": "stdout",
     "output_type": "stream",
     "text": [
      "[{'messageID': '66c8c2e45dd82d23781eab0e', 'user': 'bot', 'content': 'Hello, how can I help you?', 'date': '2024-08-24', 'time': '03:12:04'}, {'messageID': '66c8c2e45dd82d23781eab0f', 'user': 'user', 'content': 'I have a question about a document.', 'date': '2024-08-24', 'time': '03:12:04'}, {'messageID': '66c8c4295dd82d23781eab15', 'user': 'bot', 'content': 'Yes, Shooot it!', 'date': '2024-08-24', 'time': '03:17:29'}, {'messageID': '66c8c4295dd82d23781eab16', 'user': 'user', 'content': 'Just testing', 'date': '2024-08-24', 'time': '03:17:29'}, {'messageID': '66c8c46ff014daa941503c54', 'user': 'bot', 'content': 'Yes, Shooot it!', 'date': '2024-08-24', 'time': '03:18:39'}, {'messageID': '66c8c46ff014daa941503c55', 'user': 'user', 'content': 'Just testing', 'date': '2024-08-24', 'time': '03:18:39'}]\n"
     ]
    }
   ],
   "source": [
    "# Retrieve messages for a chat session\n",
    "messages = chat_history.get_messages(chat_id)\n",
    "print(messages)\n"
   ]
  },
  {
   "cell_type": "code",
   "execution_count": 5,
   "metadata": {},
   "outputs": [
    {
     "data": {
      "text/plain": [
       "[{'messageID': '66c8c2e45dd82d23781eab0f',\n",
       "  'user': 'user',\n",
       "  'content': 'I have a question about a document.',\n",
       "  'date': '2024-08-24',\n",
       "  'time': '03:12:04'},\n",
       " {'messageID': '66c8c4295dd82d23781eab15',\n",
       "  'user': 'bot',\n",
       "  'content': 'Yes, Shooot it!',\n",
       "  'date': '2024-08-24',\n",
       "  'time': '03:17:29'},\n",
       " {'messageID': '66c8c4295dd82d23781eab16',\n",
       "  'user': 'user',\n",
       "  'content': 'Just testing',\n",
       "  'date': '2024-08-24',\n",
       "  'time': '03:17:29'},\n",
       " {'messageID': '66c8c46ff014daa941503c54',\n",
       "  'user': 'bot',\n",
       "  'content': 'Yes, Shooot it!',\n",
       "  'date': '2024-08-24',\n",
       "  'time': '03:18:39'},\n",
       " {'messageID': '66c8c46ff014daa941503c55',\n",
       "  'user': 'user',\n",
       "  'content': 'Just testing',\n",
       "  'date': '2024-08-24',\n",
       "  'time': '03:18:39'}]"
      ]
     },
     "execution_count": 5,
     "metadata": {},
     "output_type": "execute_result"
    }
   ],
   "source": [
    "chat_history.get_recent_messages(chat_id)"
   ]
  },
  {
   "cell_type": "code",
   "execution_count": 9,
   "metadata": {},
   "outputs": [
    {
     "data": {
      "text/plain": [
       "'66c8c5d3f014daa941503c56'"
      ]
     },
     "execution_count": 9,
     "metadata": {},
     "output_type": "execute_result"
    }
   ],
   "source": [
    "import io\n",
    "csv_file = b\"col1,col2\\nval1,val2\"\n",
    "file_id = chat_history.upload_doc(chat_id, csv_file, \"test.csv\", \"csv\")\n",
    "\n",
    "file_id"
   ]
  },
  {
   "cell_type": "code",
   "execution_count": 17,
   "metadata": {},
   "outputs": [
    {
     "name": "stdout",
     "output_type": "stream",
     "text": [
      "Uploaded Valid PDF Doc ID: 66c8c85ef014daa941503c58\n"
     ]
    }
   ],
   "source": [
    "import io\n",
    "from fpdf import FPDF\n",
    "import tempfile\n",
    "\n",
    "# Create a simple PDF file\n",
    "pdf = FPDF()\n",
    "pdf.add_page()\n",
    "pdf.set_font(\"Arial\", size=12)\n",
    "pdf.cell(200, 10, txt=\"Hello World!\", ln=True, align=\"C\")\n",
    "\n",
    "# Create a temporary file to save the PDF\n",
    "with tempfile.NamedTemporaryFile(delete=False, suffix=\".pdf\") as temp_file:\n",
    "    pdf.output(temp_file.name)\n",
    "    temp_file.seek(0)  # Move to the start of the file\n",
    "\n",
    "    # Read the file into a BytesIO object\n",
    "    pdf_file = temp_file.read()\n",
    "\n",
    "# Use the BytesIO object to upload the PDF document\n",
    "file_id = chat_history.upload_doc(chat_id, pdf_file, \"valid_test.pdf\", \"pdf\")\n",
    "print(f\"Uploaded Valid PDF Doc ID: {file_id}\")\n"
   ]
  },
  {
   "cell_type": "code",
   "execution_count": 18,
   "metadata": {},
   "outputs": [
    {
     "name": "stdout",
     "output_type": "stream",
     "text": [
      "Document Context: Document: test.csv\n",
      "\n",
      "Content:\n",
      "col1 col2\n",
      "val1 val2\n",
      "\n",
      "\n",
      "Document: valid_test.pdf\n",
      "\n",
      "Content:\n",
      "Hello World!\n",
      "\n",
      "\n"
     ]
    }
   ],
   "source": [
    "# Get documents context\n",
    "doc_context = chat_history.get_documents_context(chat_id)\n",
    "print(f\"Document Context: {doc_context}\")"
   ]
  },
  {
   "cell_type": "code",
   "execution_count": 19,
   "metadata": {},
   "outputs": [
    {
     "name": "stdout",
     "output_type": "stream",
     "text": [
      "Search Results: [{'_id': '66c8c2e4178d38c012d70ada', 'chat_id': '66c8c2e45dd82d23781eab0d', 'archived': False, 'date': '2024-08-24', 'last_updated': datetime.datetime(2024, 8, 24, 3, 35, 26, 393000), 'pinned': False, 'title': 'Hello, how can I help you?', 'documents': [{'doc_id': '66c8c5d3f014daa941503c56', 'filename': 'test.csv', 'file_type': 'csv', 'upload_date': datetime.datetime(2024, 8, 24, 3, 24, 35, 99000)}, {'doc_id': '66c8c85ef014daa941503c58', 'filename': 'valid_test.pdf', 'file_type': 'pdf', 'upload_date': datetime.datetime(2024, 8, 24, 3, 35, 26, 393000)}], 'score': 0.6666666666666666}]\n"
     ]
    }
   ],
   "source": [
    "# Search chats\n",
    "search_results = chat_history.search_chats(\"Hello\")\n",
    "print(f\"Search Results: {search_results}\")"
   ]
  },
  {
   "cell_type": "code",
   "execution_count": 20,
   "metadata": {},
   "outputs": [
    {
     "name": "stdout",
     "output_type": "stream",
     "text": [
      "Error: Unsupported file type. Only CSV and PDF are allowed.\n"
     ]
    }
   ],
   "source": [
    "# 3. Edge Cases# Invalid document type\n",
    "try:\n",
    "    chat_history.upload_doc(chat_id, csv_file, \"test.txt\", \"txt\")\n",
    "except ValueError as e:\n",
    "    print(f\"Error: {e}\")"
   ]
  },
  {
   "cell_type": "code",
   "execution_count": 21,
   "metadata": {},
   "outputs": [
    {
     "name": "stdout",
     "output_type": "stream",
     "text": [
      "Empty Messages: [{'messageID': '66c8c92bf014daa941503c5b', 'user': 'user', 'content': '', 'date': '2024-08-24', 'time': '03:38:51'}]\n"
     ]
    }
   ],
   "source": [
    "# Empty messages\n",
    "chat_id_empty = chat_history.add_message(chat_id=None, content=\"\", is_user=True)\n",
    "messages_empty = chat_history.get_messages(chat_id_empty)\n",
    "print(f\"Empty Messages: {messages_empty}\")"
   ]
  },
  {
   "cell_type": "code",
   "execution_count": 24,
   "metadata": {},
   "outputs": [
    {
     "name": "stdout",
     "output_type": "stream",
     "text": [
      "Messages for non-existent chat ID: []\n"
     ]
    }
   ],
   "source": [
    "# Non-existent chat ID\n",
    "messages_non_existent = chat_history.get_messages(\"non_existent_id\")\n",
    "print(f\"Messages for non-existent chat ID: {messages_non_existent}\")"
   ]
  },
  {
   "cell_type": "code",
   "execution_count": null,
   "metadata": {},
   "outputs": [],
   "source": [
    "\n",
    "# 4. Cleanup\n",
    "\n",
    "# Delete chat\n",
    "chat_history.delete_chat(chat_id)\n",
    "print(f\"Deleted Chat ID: {chat_id}\")\n",
    "\n",
    "# Archive and Unpin Chats\n",
    "chat_history.archive_chat(chat_id)\n",
    "chat_history.pin_chat(chat_id)\n",
    "chat_history.unpin_chat(chat_id)\n",
    "print(\"Archived and unpinned chat.\")\n"
   ]
  },
  {
   "cell_type": "code",
   "execution_count": null,
   "metadata": {},
   "outputs": [],
   "source": []
  },
  {
   "cell_type": "code",
   "execution_count": null,
   "metadata": {},
   "outputs": [],
   "source": []
  },
  {
   "cell_type": "code",
   "execution_count": null,
   "metadata": {},
   "outputs": [],
   "source": []
  },
  {
   "cell_type": "markdown",
   "metadata": {},
   "source": [
    "## Testing Chain Of Thoughts in SQLQuery Agent"
   ]
  },
  {
   "cell_type": "code",
   "execution_count": 1,
   "metadata": {},
   "outputs": [],
   "source": [
    "from typing import List\n",
    "from langchain.prompts import PromptTemplate\n",
    "\n",
    "\n",
    "## Chain Of Thoughts and CRAG\n",
    "class SQLExpert:\n",
    "    def __init__(self, llm):\n",
    "        self.llm = llm\n",
    "\n",
    "    def generate_query(self, user_query: str, dialect: str, table_info: str, chat_history: str = '') -> str:\n",
    "        relevant_tables = self.identify_relevant_tables(user_query, table_info, chat_history)\n",
    "        query_steps = self.identify_query_steps(user_query, relevant_tables, chat_history)\n",
    "        sql_query = self.generate_sql(user_query, dialect, relevant_tables, query_steps, chat_history)\n",
    "        if sql_query.lower().strip() != \"invalid user query - not related to the database\":\n",
    "            sql_query = self.correct_query(sql_query, dialect, table_info, user_query, chat_history)\n",
    "        return sql_query\n",
    "\n",
    "    def identify_relevant_tables(self, user_query: str, table_info: str, chat_history: str) -> List[str]:\n",
    "        template = \"\"\"Given the user query and available tables, identify the list of tables that are relevant to answer the query.\n",
    "        Only include tables that are directly related to the query. Do not include any tables that are not mentioned in the table information.\n",
    "\n",
    "        User Query: {user_query}\n",
    "        Table Information: {table_info}\n",
    "        Chat History: {chat_history}\n",
    "\n",
    "        Relevant Tables (comma-separated list):\n",
    "        \"\"\"\n",
    "        prompt = PromptTemplate.from_template(template)\n",
    "        chain = prompt | self.llm\n",
    "        result = chain.invoke({\n",
    "            \"user_query\": user_query,\n",
    "            \"table_info\": table_info,\n",
    "            \"chat_history\": chat_history\n",
    "        }).content.strip()\n",
    "        return [table.strip() for table in result.split(',')]\n",
    "\n",
    "    def identify_query_steps(self, user_query: str, relevant_tables: List[str], chat_history: str) -> List[str]:\n",
    "        template = \"\"\"Given the user query and relevant tables, identify the steps that should be taken to answer the query.\n",
    "        Provide a numbered list of high-level steps, focusing on the logical flow of data manipulation and analysis.\n",
    "\n",
    "        User Query: {user_query}\n",
    "        Relevant Tables: {relevant_tables}\n",
    "        Chat History: {chat_history}\n",
    "\n",
    "        Query Steps:\n",
    "        \"\"\"\n",
    "        prompt = PromptTemplate.from_template(template)\n",
    "        chain = prompt | self.llm\n",
    "        result = chain.invoke({\n",
    "            \"user_query\": user_query,\n",
    "            \"relevant_tables\": \", \".join(relevant_tables),\n",
    "            \"chat_history\": chat_history\n",
    "        }).content.strip()\n",
    "        return [step.strip() for step in result.split('\\n') if step.strip()]\n",
    "\n",
    "    def generate_sql(self, user_query: str, dialect: str, relevant_tables: List[str], query_steps: List[str], chat_history: str) -> str:\n",
    "        template = \"\"\"Given the user query, relevant tables, and query steps, generate ONLY a syntactically correct {dialect} SQL query.\n",
    "        Follow these rules:\n",
    "        - Do not assume any table or columns that are not mentioned in the relevant tables.\n",
    "        - Do not include any CREATE, DELETE, UPDATE, or ALTER statements.\n",
    "        - Use Common Table Expressions (CTEs) for data manipulation instead of subqueries.\n",
    "        - Never use * in the SELECT statement. Always specify the columns you want to retrieve, even in CTEs.\n",
    "        - Use GROUP BY instead of DISTINCT where applicable.\n",
    "        - Do not include any LIMIT or OFFSET clauses unless the user query explicitly requires it.\n",
    "        - Use the information from the chat history if it adds context or relevant details to the current question.\n",
    "        - If the query cannot be generated, just return one sentence: \"Invalid User Query - Not related to the Database.\".\n",
    "        - Do not include any explanations, comments, or additional text. Return ONLY the SQL query.\n",
    "\n",
    "        User Query: {user_query}\n",
    "        Dialect: {dialect}\n",
    "        Relevant Tables: {relevant_tables}\n",
    "        Query Steps: {query_steps}\n",
    "        Chat History: {chat_history}\n",
    "\n",
    "        SQL Query:\n",
    "        \"\"\"\n",
    "        prompt = PromptTemplate.from_template(template)\n",
    "        chain = prompt | self.llm\n",
    "        sql_query = chain.invoke({\n",
    "            \"user_query\": user_query,\n",
    "            \"dialect\": dialect,\n",
    "            \"relevant_tables\": \", \".join(relevant_tables),\n",
    "            \"query_steps\": \"\\n\".join(query_steps),\n",
    "            \"chat_history\": chat_history\n",
    "        }).content.strip()\n",
    "\n",
    "        return sql_query\n",
    "\n",
    "\n",
    "## Update\n",
    "\n",
    "    def correct_query(self, sql_query: str, dialect: str, table_info: str, user_query: str, chat_history: str) -> str:\n",
    "        corrective_template = \"\"\"You are a SQL expert. Given a generated SQL query, evaluate it to ensure it adheres to the following criteria:\n",
    "        - Does not Assume any table or columns that are not mentioned.\n",
    "        - Does not include any CREATE, DELETE, UPDATE, or ALTER statements in your responses.\n",
    "        - Using Common Table Expressions (CTEs) for data manipulation instead of subqueries.\n",
    "        - No use of * in the SELECT statement. The columns wanted are always specified to retrieve. Even while querying from Common Table Expressions.\n",
    "        - Group by is used instead of distinct where applicable.\n",
    "        - This is a syntactically correct {dialect} query to run using Only the tables and columns that are mentined in the database.\n",
    "\n",
    "        Do not include an improved SQL Query and do not write or suggest any code. Just provide feedback on the existing query and suggest improvements.\n",
    "        If the query is already good, your response should just be one word: \"All good\". Otherwise, provide feedback and suggest improvements. \n",
    "        If the query can not be generated, your response should just be one sentence: \"Invalid User Query - Not related to the Database\".\n",
    "        Do not include an improved query.\n",
    "\n",
    "        Table Info: {table_info}\n",
    "        Chat History: {chat_history}\n",
    "        User Query: {user_query}\n",
    "        Generated SQL Query: {sql_query}\n",
    "        Correction:\n",
    "        \"\"\"\n",
    "        corrective_prompt = PromptTemplate.from_template(corrective_template)\n",
    "        corrective_chain = corrective_prompt | self.llm\n",
    "        correction_result = corrective_chain.invoke({\n",
    "            \"user_query\": user_query,\n",
    "            \"sql_query\": sql_query,\n",
    "            \"dialect\": dialect,\n",
    "            \"table_info\": table_info,\n",
    "            \"chat_history\": chat_history\n",
    "        }).content.strip()\n",
    "\n",
    "        if correction_result.lower().strip() != \"all good\":\n",
    "            sql_query = self.adjust_query(sql_query, dialect, table_info, user_query, correction_result, chat_history)\n",
    "\n",
    "        return sql_query\n",
    "\n",
    "    def adjust_query(self, sql_query: str, dialect: str, table_info: str, user_query: str, correction: str, chat_history: str) -> str:\n",
    "        adjustment_template = \"\"\"You are a SQL expert. Given a generated SQL query, correction feedback, dialect, table information, and user query, adjust the query to make it more accurate and better answer the user query.\n",
    "        If the query can not be generated, your response should just be one sentence: \"Invalid User Query - Not related to the Database\".\n",
    "        If no changes are required, return the original query as is.\n",
    "        If changes are required, follow these rules:\n",
    "        - Do not Assume any table or columns that are not mentioned.\n",
    "        - Do not include any CREATE, DELETE, UPDATE, or ALTER statements in your responses.\n",
    "        - Use Common Table Expressions (CTEs) for data manipulation instead of subqueries.\n",
    "        - Never use * in the SELECT statement. Always specify the columns you want to retrieve. Even if you are querying from Common Table Expressions.\n",
    "        - Use group by instead of distinct where applicable.\n",
    "        - Do not include any LIMIT, or OFFSET clauses in your responses unless the user query requires it.\n",
    "        - Use the information from the chat history if they add context or relevant details to the current question. Focus primarily on the most recent and relevant questions. If the previous questions do not add any context, just focus on the current question.\n",
    "\n",
    "        Dialect: {dialect}\n",
    "        Table Info: {table_info}\n",
    "        User Query: {user_query}\n",
    "        Chat History: {chat_history}\n",
    "        Generated SQL Query: {sql_query}\n",
    "        Correction Feedback: {correction}\n",
    "        Adjusted SQL Query:\n",
    "        \"\"\"\n",
    "        adjustment_prompt = PromptTemplate.from_template(adjustment_template)\n",
    "        adjustment_chain = adjustment_prompt | self.llm\n",
    "        adjusted_query = adjustment_chain.invoke({\n",
    "            \"user_query\": user_query,\n",
    "            \"sql_query\": sql_query,\n",
    "            \"dialect\": dialect,\n",
    "            \"table_info\": table_info,\n",
    "            \"correction\": correction,\n",
    "            \"chat_history\": chat_history\n",
    "        }).content.strip()\n",
    "\n",
    "        return adjusted_query"
   ]
  },
  {
   "cell_type": "code",
   "execution_count": 2,
   "metadata": {},
   "outputs": [],
   "source": [
    "from AI_Stuff.Agent_Helpers import load_elecdata_postgres, clean_sql_query, SQLCoder, DDLCommandException\n",
    "from AI_Stuff.CustomAgents import ResponseSummarizer\n",
    "from langchain_openai import ChatOpenAI\n",
    "from dotenv import load_dotenv\n",
    "\n",
    "load_dotenv()\n",
    "\n",
    "db = load_elecdata_postgres()\n",
    "dialect = db.dialect\n",
    "llm = ChatOpenAI(\n",
    "    model=\"gpt-4o\",\n",
    "    temperature=0,\n",
    "    max_tokens=None,\n",
    "    timeout=None,\n",
    "    max_retries=2\n",
    ")\n",
    "schema_info = db.get_table_info()\n",
    "sql_coder_agent = SQLExpert(llm = llm)\n",
    "sql_query_tool = SQLCoder(db=db)\n",
    "response_summarizer_agent = ResponseSummarizer(llm=llm)"
   ]
  },
  {
   "cell_type": "code",
   "execution_count": 3,
   "metadata": {},
   "outputs": [],
   "source": [
    "def Workflow(user_query: str):\n",
    "    sql_query = sql_coder_agent.generate_query(\n",
    "        user_query = user_query\n",
    "        , dialect='postgres'\n",
    "        , table_info=schema_info\n",
    "        , chat_history=''\n",
    "    )\n",
    "    sql_query = clean_sql_query(sql_query)\n",
    "    if \"CREATE\" in sql_query or \"DELETE\" in sql_query or \"UPDATE\" in sql_query or \"ALTER\" in sql_query:\n",
    "        raise DDLCommandException\n",
    "    elif sql_query.lower().strip() == \"invalid user query - not related to the database.\":\n",
    "        return sql_query\n",
    "    else:\n",
    "        data = sql_query_tool.execute_query(sql_query)\n",
    "        response = response_summarizer_agent.summarize(user_query=user_query, dataframe=data)\n",
    "        return response"
   ]
  },
  {
   "cell_type": "code",
   "execution_count": 4,
   "metadata": {},
   "outputs": [],
   "source": [
    "questions = [\"Analyze the distribution of vacancies across states. What observations can you make?\"\n",
    "    ,\"What patterns do you notice in the transfer of votes between candidates?\"\n",
    "    ,\"Calculate the total votes received and the percentage of total votes for each candidate.\"\n",
    "    ,\"Identify any correlations between primary votes and the state or location of voting.\"\n",
    "    ,\"Compare the performance of candidates across different voting methods (ordinary, postal, pre-poll, etc.). What trends do you observe?\"\n",
    "    ,\"How does the number of rounds vary between different pools, and what might this indicate about the competitiveness of the elections?\"\n",
    "    ,\"Analyze how ballot position correlates with the number of primary votes received. What conclusions can you draw?\"\n",
    "    ,\"Perform a comprehensive analysis of voting patterns and party performance across different elections and regions. Identify any notable trends or shifts in voter behavior.\"\n",
    "]"
   ]
  },
  {
   "cell_type": "code",
   "execution_count": 5,
   "metadata": {},
   "outputs": [
    {
     "name": "stderr",
     "output_type": "stream",
     "text": [
      "INFO:httpx:HTTP Request: POST https://api.openai.com/v1/chat/completions \"HTTP/1.1 200 OK\"\n",
      "INFO:httpx:HTTP Request: POST https://api.openai.com/v1/chat/completions \"HTTP/1.1 200 OK\"\n",
      "INFO:httpx:HTTP Request: POST https://api.openai.com/v1/chat/completions \"HTTP/1.1 200 OK\"\n",
      "INFO:httpx:HTTP Request: POST https://api.openai.com/v1/chat/completions \"HTTP/1.1 200 OK\"\n",
      "INFO:httpx:HTTP Request: POST https://api.openai.com/v1/chat/completions \"HTTP/1.1 429 Too Many Requests\"\n",
      "INFO:openai._base_client:Retrying request to /chat/completions in 12.184000 seconds\n",
      "INFO:httpx:HTTP Request: POST https://api.openai.com/v1/chat/completions \"HTTP/1.1 200 OK\"\n"
     ]
    },
    {
     "name": "stdout",
     "output_type": "stream",
     "text": [
      "Question: Compare the quota values for different . What might explain the differences?\n",
      "Response: Invalid User Query - Not related to the Database.\n",
      "\n",
      "------------------------------------------------------------\n"
     ]
    },
    {
     "name": "stderr",
     "output_type": "stream",
     "text": [
      "INFO:httpx:HTTP Request: POST https://api.openai.com/v1/chat/completions \"HTTP/1.1 200 OK\"\n",
      "INFO:httpx:HTTP Request: POST https://api.openai.com/v1/chat/completions \"HTTP/1.1 200 OK\"\n",
      "INFO:httpx:HTTP Request: POST https://api.openai.com/v1/chat/completions \"HTTP/1.1 200 OK\"\n",
      "INFO:httpx:HTTP Request: POST https://api.openai.com/v1/chat/completions \"HTTP/1.1 200 OK\"\n",
      "INFO:httpx:HTTP Request: POST https://api.openai.com/v1/chat/completions \"HTTP/1.1 429 Too Many Requests\"\n",
      "INFO:openai._base_client:Retrying request to /chat/completions in 8.052000 seconds\n",
      "INFO:httpx:HTTP Request: POST https://api.openai.com/v1/chat/completions \"HTTP/1.1 200 OK\"\n"
     ]
    },
    {
     "name": "stdout",
     "output_type": "stream",
     "text": [
      "Question: What patterns do you notice in the transfer of votes between candidates?\n",
      "Response: Invalid User Query - Not related to the Database.\n",
      "\n",
      "------------------------------------------------------------\n"
     ]
    }
   ],
   "source": [
    "import time\n",
    "for question in questions[1:3]:\n",
    "    res = Workflow(user_query=question)\n",
    "    print(f\"Question: {question}\\nResponse: {res}\\n\")\n",
    "    print('---'*20)\n",
    "    time.sleep(180)"
   ]
  },
  {
   "cell_type": "markdown",
   "metadata": {},
   "source": [
    "## MultiDB SQL Expert"
   ]
  },
  {
   "cell_type": "code",
   "execution_count": 17,
   "metadata": {},
   "outputs": [],
   "source": [
    "class MultiDBSQLExpert:\n",
    "    def __init__(self, llm):\n",
    "        self.llm = llm\n",
    "        self.db_info = load_db_info()\n",
    "        self.db_descriptions = \"\\n\".join([f\"{db['Name']}: {db['Description']}\" for db in self.db_info])\n",
    "\n",
    "    def _identify_database(self, user_query: str, chat_history: str = '') -> str:\n",
    "        template = \"\"\"Given the user query, chat history and the following database descriptions, select the most appropriate database to answer the query.\n",
    "        Use the information from the chat history if they add context or relevant details to the current question. Focus primarily on the most recent and relevant questions. If the previous questions do not add any context, just focus on the current question.\n",
    "        If the query is not related to any of the datasets, your response should just be oe word: 'InvalidUserQueryException'.\n",
    "        Return ONLY the name of the selected database and nothing else.\n",
    "\n",
    "        User Query: {user_query}\n",
    "        Chat History: {chat_history}\n",
    "        Database Descriptions:\n",
    "        {db_descriptions}\n",
    "\n",
    "        Selected Database:\n",
    "        \"\"\"\n",
    "        prompt = PromptTemplate.from_template(template)\n",
    "        chain = prompt | self.llm\n",
    "        result = chain.invoke({\n",
    "            \"user_query\": user_query,\n",
    "            \"chat_history\": chat_history,\n",
    "            \"db_descriptions\": self.db_descriptions\n",
    "        }).content.strip()\n",
    "        \n",
    "        return result\n",
    "    \n",
    "    def _identify_relevant_tables(self, user_query: str, db_name: str, chat_history: str = '') -> List[str]:\n",
    "        available_tables = next(db['Table List'] for db in self.db_info if db['Name'] == db_name)\n",
    "        template = \"\"\"Given the user query, chat history and schema information, identify the list of tables that are relevant to answer the query.\n",
    "        Only include tables that are directly related to the query. Do not include any tables that are not mentioned in the table information.\n",
    "        Use the information from the chat history if they add context or relevant details to the current question. Focus primarily on the most recent and relevant questions. If the previous questions do not add any context, just focus on the current question.\n",
    "        If the user query is not related to the tables, your response should just be oe word: 'InvalidUserQueryException'.\n",
    "        Return only a comma-separated list of relevant table names, without any additional text or reasoning.\n",
    "\n",
    "        User Query: {user_query}\n",
    "        Chat History: {chat_history}\n",
    "        Schema Info: {available_tables}\n",
    "\n",
    "        Relevant Tables:\n",
    "        \"\"\"\n",
    "        prompt = PromptTemplate.from_template(template)\n",
    "        chain = prompt | self.llm\n",
    "        result = chain.invoke({\n",
    "            \"user_query\": user_query,\n",
    "            \"chat_history\": chat_history,\n",
    "            \"available_tables\": available_tables\n",
    "        }).content.strip()\n",
    "        \n",
    "        return result\n",
    "    \n",
    "    def _identify_query_steps(self, user_query: str, db_schema: str, chat_history: str = '') -> List[str]:\n",
    "\n",
    "        template = \"\"\"Given the user query and relevant tables, identify the steps that should be taken to answer the query.\n",
    "        Provide a numbered list of high-level steps, focusing on the logical flow of data manipulation and analysis.\n",
    "\n",
    "        User Query: {user_query}\n",
    "        Schema Info: {schema_info}\n",
    "        Chat History: {chat_history}\n",
    "\n",
    "        Query Steps:\n",
    "        \"\"\"\n",
    "        prompt = PromptTemplate.from_template(template)\n",
    "        chain = prompt | self.llm\n",
    "        result = chain.invoke({\n",
    "            \"user_query\": user_query,\n",
    "            \"schema_info\": db_schema,\n",
    "            \"chat_history\": chat_history\n",
    "        }).content.strip()\n",
    "        return result\n",
    "    \n",
    "    def _generate_sql(self, user_query: str, dialect: str, db_schema: List[str], query_steps: List[str], chat_history: str) -> str:\n",
    "        template = \"\"\"Given the user query, relevant tables, query steps, generate ONLY a syntactically correct {dialect} SQL query.\n",
    "        Follow these rules:\n",
    "        - Use only the tables and columns mentioned in the schema information.\n",
    "        - Do not include any CREATE, DELETE, UPDATE, or ALTER statements.\n",
    "        - Use Common Table Expressions (CTEs) for data manipulation instead of subqueries.\n",
    "        - Never use * in the SELECT statement. Always specify the columns you want to retrieve, even in CTEs.\n",
    "        - Use GROUP BY instead of DISTINCT where applicable.\n",
    "        - Do not include any LIMIT or OFFSET clauses unless the user query explicitly requires it.\n",
    "        - Use the information from the chat history if it adds context or relevant details to the current question.\n",
    "        - If the query cannot be generated, just return one sentence: \"Invalid User Query - Not related to the Database.\".\n",
    "        - Do not include any explanations, comments, or additional text. Return ONLY the SQL query.\n",
    "\n",
    "        User Query: {user_query}\n",
    "        Dialect: {dialect}\n",
    "        Relevant Tables: {db_schema}\n",
    "        Query Steps: {query_steps}\n",
    "        Chat History: {chat_history}\n",
    "\n",
    "        SQL Query:\n",
    "        \"\"\"\n",
    "        prompt = PromptTemplate.from_template(template)\n",
    "        chain = prompt | self.llm\n",
    "        sql_query = chain.invoke({\n",
    "            \"user_query\": user_query,\n",
    "            \"dialect\": dialect,\n",
    "            \"db_schema\": db_schema,\n",
    "            \"query_steps\": query_steps,\n",
    "            \"chat_history\": chat_history\n",
    "        }).content.strip()\n",
    "\n",
    "        return sql_query\n",
    "    \n",
    "    def _correct_query(self, sql_query: str, dialect: str, db_schema: str, user_query: str, chat_history: str) -> str:\n",
    "        corrective_template = \"\"\"\n",
    "        You are a SQL expert. Given a generated SQL query, evaluate it to ensure it adheres to the following criteria:\n",
    "        - Uses only the tables and columns mentioned in the schema information.\n",
    "        - Does not include any CREATE, DELETE, UPDATE, or ALTER statements.\n",
    "        - Uses Common Table Expressions (CTEs) for data manipulation instead of subqueries.\n",
    "        - No use of * in the SELECT statement. The columns to retrieve should always be specified, even when querying from Common Table Expressions.\n",
    "        - Uses GROUP BY instead of DISTINCT where applicable.\n",
    "        - Ensures that the query is syntactically correct {dialect} SQL that runs using only the tables and columns mentioned in the schema information.\n",
    "\n",
    "        If the query is correct, return exactly one word: \"All good\".\n",
    "        If the query has errors or can be improved, provide specific feedback and suggestions for improvement.\n",
    "        If the user query is not related to the database, return exactly one sentence: \"Invalid User Query - Not related to the Database\".\n",
    "        Do Not Include including an improved query. Focus on clear, actionable feedback.\n",
    "\n",
    "        Schema Info: {schema_info}\n",
    "        Chat History: {chat_history}\n",
    "        User Query: {user_query}\n",
    "        Generated SQL Query: {sql_query}\n",
    "        Correction Feedback:\n",
    "        \"\"\"\n",
    "        corrective_prompt = PromptTemplate.from_template(corrective_template)\n",
    "        corrective_chain = corrective_prompt | self.llm\n",
    "        correction_result = corrective_chain.invoke({\n",
    "            \"user_query\": user_query,\n",
    "            \"sql_query\": sql_query,\n",
    "            \"dialect\": dialect,\n",
    "            \"schema_info\": db_schema,\n",
    "            \"chat_history\": chat_history\n",
    "        }).content.strip()\n",
    "\n",
    "        if correction_result.lower().strip() != \"all good\":\n",
    "            sql_query = self._adjust_query(sql_query, dialect, db_schema, user_query, correction_result, chat_history)\n",
    "\n",
    "        return sql_query\n",
    "\n",
    "    def _adjust_query(self, sql_query: str, dialect: str, db_schema: str, user_query: str, correction_result: str, chat_history: str) -> str:\n",
    "        adjustment_template = \"\"\"\n",
    "            You are a SQL expert. Given a generated SQL query, correction feedback, dialect, schema information, and user query, adjust the query to better answer the user query.\n",
    "            If the query cannot be generated or is unrelated to the database, return exactly one sentence: \"Invalid User Query - Not related to the Database\".\n",
    "            If no changes are needed, return the original query as is.\n",
    "            If changes are necessary, follow these guidelines:\n",
    "            - Use only the tables and columns mentioned in the schema information.\n",
    "            - Avoid including any CREATE, DELETE, UPDATE, or ALTER statements.\n",
    "            - Use Common Table Expressions (CTEs) for data manipulation instead of subqueries.\n",
    "            - Do not use * in the SELECT statement. Always specify the columns to retrieve, even when using CTEs.\n",
    "            - Use GROUP BY instead of DISTINCT where appropriate.\n",
    "            - Do not include any LIMIT or OFFSET clauses unless explicitly required by the user query.\n",
    "            - Leverage information from the chat history if it adds relevant context to the current question. Focus on the most recent and relevant questions.\n",
    "            generate ONLY a syntactically correct {dialect} SQL query.\n",
    "\n",
    "            Dialect: {dialect}\n",
    "            Schema Info: {schema_info}\n",
    "            User Query: {user_query}\n",
    "            Chat History: {chat_history}\n",
    "            Generated SQL Query: {sql_query}\n",
    "            Correction Feedback: {correction}\n",
    "            Adjusted SQL Query:\n",
    "            \"\"\"\n",
    "        adjustment_prompt = PromptTemplate.from_template(adjustment_template)\n",
    "        adjustment_chain = adjustment_prompt | self.llm\n",
    "        adjusted_query = adjustment_chain.invoke({\n",
    "            \"user_query\": user_query,\n",
    "            \"sql_query\": sql_query,\n",
    "            \"dialect\": dialect,\n",
    "            \"schema_info\": db_schema,\n",
    "            \"correction\": correction_result,\n",
    "            \"chat_history\": chat_history\n",
    "        }).content.strip()\n",
    "\n",
    "        return adjusted_query\n",
    "\n",
    "    def generate_query(self, user_query: str, dialect: str, chat_history: str = '') -> str:\n",
    "        selected_db = self._identify_database(user_query, chat_history=chat_history)\n",
    "        print(f\"Selected DB: {selected_db}\")\n",
    "\n",
    "        if selected_db.lower().strip() == \"invaliduserqueryexception\":\n",
    "            raise InvalidUserQueryException()\n",
    "\n",
    "        relevant_tables = self._identify_relevant_tables(user_query, selected_db, chat_history=chat_history)\n",
    "        print(f\"Selected Tables: {relevant_tables}\")\n",
    "\n",
    "        if relevant_tables.lower().strip() == \"invaliduserqueryexception\":\n",
    "            raise InvalidUserQueryException()\n",
    "\n",
    "        db_schema = load_db_schema(selected_db, relevant_tables)\n",
    "\n",
    "        print(f\"DB Schema:{db_schema}\")\n",
    "        \n",
    "        query_steps = self._identify_query_steps(user_query, db_schema, chat_history)\n",
    "        print(f\"Query Steps: {query_steps}\")\n",
    "        sql_query = self._generate_sql(user_query, dialect, db_schema, query_steps, chat_history)\n",
    "        print(f\"SQL Query: {sql_query}\")\n",
    "        if sql_query.lower().strip() == \"invalid user query - not related to the database\":\n",
    "            raise InvalidUserQueryException()\n",
    "        \n",
    "        sql_query = self._correct_query(sql_query, dialect, db_schema, user_query, chat_history)\n",
    "        print(f\"Corrected SQL Query: {sql_query}\")\n",
    "        \n",
    "        return (selected_db, sql_query)"
   ]
  },
  {
   "cell_type": "code",
   "execution_count": 10,
   "metadata": {},
   "outputs": [],
   "source": [
    "from typing import List, Dict\n",
    "from langchain.prompts import PromptTemplate\n",
    "from AI_Stuff.Agent_Helpers import load_db_info, InvalidUserQueryException, load_db_schema"
   ]
  },
  {
   "cell_type": "code",
   "execution_count": 11,
   "metadata": {},
   "outputs": [],
   "source": [
    "from AI_Stuff.Agent_Helpers import (\n",
    "    clean_sql_query\n",
    "    , DDLCommandException, NoDataFoundException, NoResultsFoundException, InvalidUserQueryException\n",
    "    , load_llm\n",
    "    , QuerySQLTool\n",
    "    , load_elecdata_postgres\n",
    "    , load_polimap_postgres\n",
    ")\n",
    "from AI_Stuff.CustomAgents import ResponseSummarizer\n",
    "\n",
    "llm = load_llm()\n",
    "sql_coder_agent = SQLExpert(llm = llm)\n",
    "response_summarizer_agent = ResponseSummarizer(llm=llm)"
   ]
  },
  {
   "cell_type": "code",
   "execution_count": 14,
   "metadata": {},
   "outputs": [],
   "source": [
    "def Workflow(user_query: str):\n",
    "    (db_name, sql_query) = sql_coder_agent.generate_query(\n",
    "        user_query = user_query\n",
    "        , dialect='postgres'\n",
    "        , chat_history=''\n",
    "    )\n",
    "    sql_query = clean_sql_query(sql_query)\n",
    "\n",
    "    if db_name == 'polimap':\n",
    "        db = load_polimap_postgres()\n",
    "    elif db_name == 'elecdata':\n",
    "        db = load_elecdata_postgres()\n",
    "    else:\n",
    "        raise ValueError(\"InvalidUserQueryException\")\n",
    "    \n",
    "    sql_query_tool = QuerySQLTool(db= db)\n",
    "    try:\n",
    "        data = sql_query_tool.execute_query(sql_query)\n",
    "        print(f\"Data: {data}\")\n",
    "        response = response_summarizer_agent.summarize(user_query=user_query, dataframe=data)\n",
    "    except Exception as e:\n",
    "        raise(e)\n",
    "    return response\n"
   ]
  },
  {
   "cell_type": "code",
   "execution_count": 15,
   "metadata": {},
   "outputs": [
    {
     "name": "stderr",
     "output_type": "stream",
     "text": [
      "INFO:httpx:HTTP Request: POST https://api.openai.com/v1/chat/completions \"HTTP/1.1 200 OK\"\n"
     ]
    },
    {
     "name": "stdout",
     "output_type": "stream",
     "text": [
      "Selected DB: elecdata\n"
     ]
    },
    {
     "name": "stderr",
     "output_type": "stream",
     "text": [
      "INFO:httpx:HTTP Request: POST https://api.openai.com/v1/chat/completions \"HTTP/1.1 200 OK\"\n"
     ]
    },
    {
     "name": "stdout",
     "output_type": "stream",
     "text": [
      "Selected Tables: elecdata_houseelection, elecdata_votetally, elecdata_party\n",
      "DB Schema:\n",
      "CREATE TABLE elecdata_houseelection (\n",
      "\tid BIGINT GENERATED BY DEFAULT AS IDENTITY (INCREMENT BY 1 START WITH 1 MINVALUE 1 MAXVALUE 9223372036854775807 CACHE 1 NO CYCLE), \n",
      "\telection_date DATE NOT NULL, \n",
      "\tcreated TIMESTAMP WITH TIME ZONE NOT NULL, \n",
      "\telection_type VARCHAR(15) NOT NULL, \n",
      "\tCONSTRAINT jacobsladder_houseelection_pkey PRIMARY KEY (id)\n",
      ")\n",
      "\n",
      "/*\n",
      "3 rows from elecdata_houseelection table:\n",
      "id\telection_date\tcreated\telection_type\n",
      "1\t2022-01-01\t2024-04-29 10:23:30.181831+00:00\t\n",
      "2\t2019-01-01\t2024-04-29 10:48:29.534916+00:00\t\n",
      "3\t2016-01-01\t2024-04-29 11:12:19.523209+00:00\t\n",
      "*/\n",
      "\n",
      "\n",
      "CREATE TABLE elecdata_party (\n",
      "\tid BIGINT GENERATED BY DEFAULT AS IDENTITY (INCREMENT BY 1 START WITH 1 MINVALUE 1 MAXVALUE 9223372036854775807 CACHE 1 NO CYCLE), \n",
      "\tname VARCHAR(255) NOT NULL, \n",
      "\tabbreviation VARCHAR(15), \n",
      "\tcreated TIMESTAMP WITH TIME ZONE NOT NULL, \n",
      "\tCONSTRAINT jacobsladder_party_pkey PRIMARY KEY (id), \n",
      "\tCONSTRAINT abbreviation_and_name UNIQUE (abbreviation, name)\n",
      ")\n",
      "\n",
      "/*\n",
      "3 rows from elecdata_party table:\n",
      "id\tname\tabbreviation\tcreated\n",
      "1\tUnited Australia Party\tUAPP\t2024-04-29 10:23:31.419352+00:00\n",
      "2\tPauline Hanson's One Nation\tON\t2024-04-29 10:23:31.447737+00:00\n",
      "3\tAustralian Labor Party\tALP\t2024-04-29 10:23:31.466809+00:00\n",
      "*/\n",
      "\n",
      "\n",
      "CREATE TABLE elecdata_votetally (\n",
      "\tid BIGINT GENERATED BY DEFAULT AS IDENTITY (INCREMENT BY 1 START WITH 1 MINVALUE 1 MAXVALUE 9223372036854775807 CACHE 1 NO CYCLE), \n",
      "\tprimary_votes INTEGER, \n",
      "\ttcp_votes INTEGER, \n",
      "\tcreated TIMESTAMP WITH TIME ZONE NOT NULL, \n",
      "\tbooth_id BIGINT, \n",
      "\tcandidate_id BIGINT NOT NULL, \n",
      "\telection_id BIGINT NOT NULL, \n",
      "\tabsent_votes INTEGER NOT NULL, \n",
      "\taec_ordinary INTEGER NOT NULL, \n",
      "\taec_swing NUMERIC(8, 4) NOT NULL, \n",
      "\taec_total INTEGER NOT NULL, \n",
      "\tbypass_id BIGINT, \n",
      "\tdeclaration_pre_poll_votes INTEGER NOT NULL, \n",
      "\tpostal_votes INTEGER NOT NULL, \n",
      "\tprovisional_votes INTEGER NOT NULL, \n",
      "\tcollection_id BIGINT, \n",
      "\tabsent_votes_percent NUMERIC(5, 2) NOT NULL, \n",
      "\taec_ordinary_percent NUMERIC(5, 2) NOT NULL, \n",
      "\taec_total_percent NUMERIC(5, 2) NOT NULL, \n",
      "\tdeclaration_pre_poll_votes_percent NUMERIC(5, 2) NOT NULL, \n",
      "\tpostal_votes_percent NUMERIC(5, 2) NOT NULL, \n",
      "\tprimary_votes_percent NUMERIC(5, 2), \n",
      "\tprovisional_votes_percent NUMERIC(5, 2) NOT NULL, \n",
      "\ttcp_votes_percent NUMERIC(5, 2), \n",
      "\tCONSTRAINT jacobsladder_votetally_pkey PRIMARY KEY (id), \n",
      "\tCONSTRAINT elecdata_votetally_collection_id_439c88eb_fk_elecdata_ FOREIGN KEY(collection_id) REFERENCES elecdata_collection (id) DEFERRABLE INITIALLY DEFERRED, \n",
      "\tCONSTRAINT jacobsladder_votetal_booth_id_fa454a2b_fk_jacobslad FOREIGN KEY(booth_id) REFERENCES elecdata_booth (id) DEFERRABLE INITIALLY DEFERRED, \n",
      "\tCONSTRAINT jacobsladder_votetal_bypass_id_e52e5015_fk_jacobslad FOREIGN KEY(bypass_id) REFERENCES elecdata_seat (id) DEFERRABLE INITIALLY DEFERRED, \n",
      "\tCONSTRAINT jacobsladder_votetal_candidate_id_5d71ebde_fk_jacobslad FOREIGN KEY(candidate_id) REFERENCES elecdata_housecandidate (id) DEFERRABLE INITIALLY DEFERRED, \n",
      "\tCONSTRAINT jacobsladder_votetal_election_id_e9392b6f_fk_jacobslad FOREIGN KEY(election_id) REFERENCES elecdata_houseelection (id) DEFERRABLE INITIALLY DEFERRED, \n",
      "\tCONSTRAINT booth_bypass_election_candidate UNIQUE (booth_id, bypass_id, election_id, candidate_id), \n",
      "\tCONSTRAINT jacobsladder_votetally_absent_votes_check CHECK (absent_votes >= 0), \n",
      "\tCONSTRAINT jacobsladder_votetally_aec_ordinary_check CHECK (aec_ordinary >= 0), \n",
      "\tCONSTRAINT jacobsladder_votetally_aec_total_check CHECK (aec_total >= 0), \n",
      "\tCONSTRAINT jacobsladder_votetally_declaration_pre_poll_votes_check CHECK (declaration_pre_poll_votes >= 0), \n",
      "\tCONSTRAINT jacobsladder_votetally_postal_votes_check CHECK (postal_votes >= 0), \n",
      "\tCONSTRAINT jacobsladder_votetally_provisional_votes_check CHECK (provisional_votes >= 0)\n",
      ")\n",
      "\n",
      "/*\n",
      "3 rows from elecdata_votetally table:\n",
      "id\tprimary_votes\ttcp_votes\tcreated\tbooth_id\tcandidate_id\telection_id\tabsent_votes\taec_ordinary\taec_swing\taec_total\tbypass_id\tdeclaration_pre_poll_votes\tpostal_votes\tprovisional_votes\tcollection_id\tabsent_votes_percent\taec_ordinary_percent\taec_total_percent\tdeclaration_pre_poll_votes_percent\tpostal_votes_percent\tprimary_votes_percent\tprovisional_votes_percent\ttcp_votes_percent\n",
      "4\t60\tNone\t2024-04-29 10:23:31.494374+00:00\t1\t4\t1\t0\t0\t0.0000\t0\tNone\t0\t0\t0\tNone\t0.00\t0.00\t0.00\t0.00\t0.00\t6.42\t0.00\tNone\n",
      "10\t541\t798\t2024-04-29 10:23:31.597990+00:00\t2\t3\t1\t0\t0\t0.0000\t0\tNone\t0\t0\t0\tNone\t0.00\t0.00\t0.00\t0.00\t0.00\t41.17\t0.00\t62.49\n",
      "136\t189\t283\t2024-04-29 10:23:33.452361+00:00\t20\t3\t1\t0\t0\t0.0000\t0\tNone\t0\t0\t0\tNone\t0.00\t0.00\t0.00\t0.00\t0.00\t32.59\t0.00\t50.81\n",
      "*/\n"
     ]
    },
    {
     "name": "stderr",
     "output_type": "stream",
     "text": [
      "INFO:httpx:HTTP Request: POST https://api.openai.com/v1/chat/completions \"HTTP/1.1 200 OK\"\n"
     ]
    },
    {
     "name": "stdout",
     "output_type": "stream",
     "text": [
      "Query Steps: To answer the query \"How many votes did each party get in 2022?\" using the provided schema, follow these high-level steps:\n",
      "\n",
      "1. **Identify the 2022 Election**:\n",
      "   - Query the `elecdata_houseelection` table to find the `id` of the election that took place in 2022.\n",
      "\n",
      "2. **Filter Vote Tallies for the 2022 Election**:\n",
      "   - Use the `election_id` obtained from the previous step to filter the `elecdata_votetally` table for vote tallies related to the 2022 election.\n",
      "\n",
      "3. **Aggregate Votes by Candidate**:\n",
      "   - Sum the `primary_votes` and `tcp_votes` for each candidate in the filtered vote tallies.\n",
      "\n",
      "4. **Map Candidates to Parties**:\n",
      "   - Join the aggregated vote tallies with the `elecdata_housecandidate` table to get the `party_id` for each candidate.\n",
      "\n",
      "5. **Map Parties to Party Names**:\n",
      "   - Join the result from the previous step with the `elecdata_party` table to get the party names.\n",
      "\n",
      "6. **Aggregate Votes by Party**:\n",
      "   - Sum the votes (both `primary_votes` and `tcp_votes`) for each party.\n",
      "\n",
      "7. **Format the Result**:\n",
      "   - Prepare the final result to show the total votes for each party in 2022.\n",
      "\n",
      "Here is a more detailed breakdown of the SQL queries for each step:\n",
      "\n",
      "1. **Identify the 2022 Election**:\n",
      "   ```sql\n",
      "   SELECT id \n",
      "   FROM elecdata_houseelection \n",
      "   WHERE EXTRACT(YEAR FROM election_date) = 2022;\n",
      "   ```\n",
      "\n",
      "2. **Filter Vote Tallies for the 2022 Election**:\n",
      "   ```sql\n",
      "   SELECT * \n",
      "   FROM elecdata_votetally \n",
      "   WHERE election_id = <2022_election_id>;\n",
      "   ```\n",
      "\n",
      "3. **Aggregate Votes by Candidate**:\n",
      "   ```sql\n",
      "   SELECT candidate_id, \n",
      "          SUM(primary_votes) AS total_primary_votes, \n",
      "          SUM(tcp_votes) AS total_tcp_votes \n",
      "   FROM elecdata_votetally \n",
      "   WHERE election_id = <2022_election_id>\n",
      "   GROUP BY candidate_id;\n",
      "   ```\n",
      "\n",
      "4. **Map Candidates to Parties**:\n",
      "   ```sql\n",
      "   SELECT c.party_id, \n",
      "          v.total_primary_votes, \n",
      "          v.total_tcp_votes \n",
      "   FROM (SELECT candidate_id, \n",
      "                SUM(primary_votes) AS total_primary_votes, \n",
      "                SUM(tcp_votes) AS total_tcp_votes \n",
      "         FROM elecdata_votetally \n",
      "         WHERE election_id = <2022_election_id>\n",
      "         GROUP BY candidate_id) v\n",
      "   JOIN elecdata_housecandidate c ON v.candidate_id = c.id;\n",
      "   ```\n",
      "\n",
      "5. **Map Parties to Party Names**:\n",
      "   ```sql\n",
      "   SELECT p.name AS party_name, \n",
      "          v.total_primary_votes, \n",
      "          v.total_tcp_votes \n",
      "   FROM (SELECT c.party_id, \n",
      "                v.total_primary_votes, \n",
      "                v.total_tcp_votes \n",
      "         FROM (SELECT candidate_id, \n",
      "                      SUM(primary_votes) AS total_primary_votes, \n",
      "                      SUM(tcp_votes) AS total_tcp_votes \n",
      "               FROM elecdata_votetally \n",
      "               WHERE election_id = <2022_election_id>\n",
      "               GROUP BY candidate_id) v\n",
      "         JOIN elecdata_housecandidate c ON v.candidate_id = c.id) v\n",
      "   JOIN elecdata_party p ON v.party_id = p.id;\n",
      "   ```\n",
      "\n",
      "6. **Aggregate Votes by Party**:\n",
      "   ```sql\n",
      "   SELECT party_name, \n",
      "          SUM(total_primary_votes) AS total_primary_votes, \n",
      "          SUM(total_tcp_votes) AS total_tcp_votes \n",
      "   FROM (SELECT p.name AS party_name, \n",
      "                v.total_primary_votes, \n",
      "                v.total_tcp_votes \n",
      "         FROM (SELECT c.party_id, \n",
      "                      v.total_primary_votes, \n",
      "                      v.total_tcp_votes \n",
      "               FROM (SELECT candidate_id, \n",
      "                            SUM(primary_votes) AS total_primary_votes, \n",
      "                            SUM(tcp_votes) AS total_tcp_votes \n",
      "                     FROM elecdata_votetally \n",
      "                     WHERE election_id = <2022_election_id>\n",
      "                     GROUP BY candidate_id) v\n",
      "               JOIN elecdata_housecandidate c ON v.candidate_id = c.id) v\n",
      "         JOIN elecdata_party p ON v.party_id = p.id) v\n",
      "   GROUP BY party_name;\n",
      "   ```\n",
      "\n",
      "7. **Format the Result**:\n",
      "   - The final result will be a table showing `party_name`, `total_primary_votes`, and `total_tcp_votes` for each party in the 2022 election.\n"
     ]
    },
    {
     "name": "stderr",
     "output_type": "stream",
     "text": [
      "INFO:httpx:HTTP Request: POST https://api.openai.com/v1/chat/completions \"HTTP/1.1 200 OK\"\n"
     ]
    },
    {
     "name": "stdout",
     "output_type": "stream",
     "text": [
      "SQL Query: ```sql\n",
      "WITH election_2022 AS (\n",
      "    SELECT id \n",
      "    FROM elecdata_houseelection \n",
      "    WHERE EXTRACT(YEAR FROM election_date) = 2022\n",
      "),\n",
      "vote_tallies_2022 AS (\n",
      "    SELECT candidate_id, \n",
      "           SUM(primary_votes) AS total_primary_votes, \n",
      "           SUM(tcp_votes) AS total_tcp_votes \n",
      "    FROM elecdata_votetally \n",
      "    WHERE election_id = (SELECT id FROM election_2022)\n",
      "    GROUP BY candidate_id\n",
      "),\n",
      "candidate_party_votes AS (\n",
      "    SELECT c.party_id, \n",
      "           v.total_primary_votes, \n",
      "           v.total_tcp_votes \n",
      "    FROM vote_tallies_2022 v\n",
      "    JOIN elecdata_housecandidate c ON v.candidate_id = c.id\n",
      "),\n",
      "party_votes AS (\n",
      "    SELECT p.name AS party_name, \n",
      "           cpv.total_primary_votes, \n",
      "           cpv.total_tcp_votes \n",
      "    FROM candidate_party_votes cpv\n",
      "    JOIN elecdata_party p ON cpv.party_id = p.id\n",
      ")\n",
      "SELECT party_name, \n",
      "       SUM(total_primary_votes) AS total_primary_votes, \n",
      "       SUM(total_tcp_votes) AS total_tcp_votes \n",
      "FROM party_votes\n",
      "GROUP BY party_name;\n",
      "```\n"
     ]
    },
    {
     "name": "stderr",
     "output_type": "stream",
     "text": [
      "INFO:httpx:HTTP Request: POST https://api.openai.com/v1/chat/completions \"HTTP/1.1 200 OK\"\n",
      "INFO:httpx:HTTP Request: POST https://api.openai.com/v1/chat/completions \"HTTP/1.1 200 OK\"\n"
     ]
    },
    {
     "name": "stdout",
     "output_type": "stream",
     "text": [
      "Corrected SQL Query: ```sql\n",
      "WITH election_2022 AS (\n",
      "    SELECT id \n",
      "    FROM elecdata_houseelection \n",
      "    WHERE EXTRACT(YEAR FROM election_date) = 2022\n",
      "),\n",
      "vote_tallies_2022 AS (\n",
      "    SELECT candidate_id, \n",
      "           SUM(primary_votes) AS total_primary_votes, \n",
      "           SUM(tcp_votes) AS total_tcp_votes \n",
      "    FROM elecdata_votetally \n",
      "    WHERE election_id IN (SELECT id FROM election_2022)\n",
      "    GROUP BY candidate_id\n",
      ")\n",
      "SELECT p.name AS party_name, \n",
      "       SUM(v.total_primary_votes) AS total_primary_votes, \n",
      "       SUM(v.total_tcp_votes) AS total_tcp_votes \n",
      "FROM vote_tallies_2022 v\n",
      "JOIN elecdata_housecandidate c ON v.candidate_id = c.id\n",
      "JOIN elecdata_party p ON c.party_id = p.id\n",
      "GROUP BY p.name;\n",
      "```\n"
     ]
    },
    {
     "ename": "SyntaxError",
     "evalue": "invalid syntax (<unknown>, line 1)",
     "output_type": "error",
     "traceback": [
      "Traceback \u001b[1;36m(most recent call last)\u001b[0m:\n",
      "\u001b[0m  File \u001b[0;32m~\\AppData\\Roaming\\Python\\Python312\\site-packages\\IPython\\core\\interactiveshell.py:3577\u001b[0m in \u001b[0;35mrun_code\u001b[0m\n    exec(code_obj, self.user_global_ns, self.user_ns)\u001b[0m\n",
      "\u001b[0m  Cell \u001b[0;32mIn[15], line 1\u001b[0m\n    Workflow(\"How many votes did each party get in 2022?\")\u001b[0m\n",
      "\u001b[0m  Cell \u001b[0;32mIn[14], line 22\u001b[0m in \u001b[0;35mWorkflow\u001b[0m\n    raise(e)\u001b[0m\n",
      "\u001b[0m  Cell \u001b[0;32mIn[14], line 18\u001b[0m in \u001b[0;35mWorkflow\u001b[0m\n    data = sql_query_tool.execute_query(sql_query)\u001b[0m\n",
      "\u001b[0m  File \u001b[0;32mc:\\Users\\rajna\\Desktop\\Swinburne\\Semester 4\\TAP\\PoliQ_App\\Backend\\AI_Stuff\\Agent_Helpers.py:217\u001b[0m in \u001b[0;35mexecute_query\u001b[0m\n    raise e\u001b[0m\n",
      "\u001b[0m  File \u001b[0;32mc:\\Users\\rajna\\Desktop\\Swinburne\\Semester 4\\TAP\\PoliQ_App\\Backend\\AI_Stuff\\Agent_Helpers.py:211\u001b[0m in \u001b[0;35mexecute_query\u001b[0m\n    res = self._custom_parser(res)\u001b[0m\n",
      "\u001b[0m  File \u001b[0;32mc:\\Users\\rajna\\Desktop\\Swinburne\\Semester 4\\TAP\\PoliQ_App\\Backend\\AI_Stuff\\Agent_Helpers.py:198\u001b[0m in \u001b[0;35m_custom_parser\u001b[0m\n    return ast.literal_eval(res_str)\u001b[0m\n",
      "\u001b[0m  File \u001b[0;32mc:\\Users\\rajna\\AppData\\Local\\Programs\\Python\\Python312\\Lib\\ast.py:66\u001b[0m in \u001b[0;35mliteral_eval\u001b[0m\n    node_or_string = parse(node_or_string.lstrip(\" \\t\"), mode='eval')\u001b[0m\n",
      "\u001b[1;36m  File \u001b[1;32mc:\\Users\\rajna\\AppData\\Local\\Programs\\Python\\Python312\\Lib\\ast.py:52\u001b[1;36m in \u001b[1;35mparse\u001b[1;36m\n\u001b[1;33m    return compile(source, filename, mode, flags,\u001b[1;36m\n",
      "\u001b[1;36m  File \u001b[1;32m<unknown>:1\u001b[1;36m\u001b[0m\n\u001b[1;33m    Error: (psycopg2.errors.UndefinedColumn) column c.party_id does not exist\u001b[0m\n\u001b[1;37m         ^\u001b[0m\n\u001b[1;31mSyntaxError\u001b[0m\u001b[1;31m:\u001b[0m invalid syntax\n"
     ]
    }
   ],
   "source": [
    "Workflow(\"How many votes did each party get in 2022?\")\n"
   ]
  },
  {
   "cell_type": "code",
   "execution_count": null,
   "metadata": {},
   "outputs": [],
   "source": []
  }
 ],
 "metadata": {
  "kernelspec": {
   "display_name": "Python 3",
   "language": "python",
   "name": "python3"
  },
  "language_info": {
   "codemirror_mode": {
    "name": "ipython",
    "version": 3
   },
   "file_extension": ".py",
   "mimetype": "text/x-python",
   "name": "python",
   "nbconvert_exporter": "python",
   "pygments_lexer": "ipython3",
   "version": "3.12.2"
  }
 },
 "nbformat": 4,
 "nbformat_minor": 2
}
